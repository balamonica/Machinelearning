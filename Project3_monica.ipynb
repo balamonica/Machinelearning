{
 "cells": [
  {
   "cell_type": "markdown",
   "id": "3f0c0e57-3022-452a-820a-87f5fffe61d4",
   "metadata": {},
   "source": [
    "# Project 3- Phising Classification- Submitted by Monica"
   ]
  },
  {
   "cell_type": "markdown",
   "id": "42df3354-bc18-4197-a9f1-874a643065ce",
   "metadata": {},
   "source": [
    "### Load necessary modules"
   ]
  },
  {
   "cell_type": "code",
   "execution_count": 4,
   "id": "e5371537-b76a-45f6-84a0-fec8a13fa3b9",
   "metadata": {},
   "outputs": [],
   "source": [
    "import pandas as pd\n",
    "import numpy as np\n",
    "import math\n",
    "import matplotlib.pyplot as plt\n",
    "import seaborn as sns\n",
    "from scipy import stats\n",
    "pd.options.display.max_rows = 100"
   ]
  },
  {
   "cell_type": "markdown",
   "id": "053d3c3c-803e-49e7-995b-7955cfd7a528",
   "metadata": {},
   "source": [
    "### Read the input file"
   ]
  },
  {
   "cell_type": "code",
   "execution_count": 5,
   "id": "19c2f406-cc98-438c-8774-f429b8528191",
   "metadata": {},
   "outputs": [],
   "source": [
    "data=pd.read_csv('Phishing.csv')"
   ]
  },
  {
   "cell_type": "code",
   "execution_count": 6,
   "id": "e0501e86-dc99-4b31-98b6-8cdcaa4a683d",
   "metadata": {},
   "outputs": [
    {
     "data": {
      "text/plain": [
       "(11054, 31)"
      ]
     },
     "execution_count": 6,
     "metadata": {},
     "output_type": "execute_result"
    }
   ],
   "source": [
    "data.shape"
   ]
  },
  {
   "cell_type": "markdown",
   "id": "6dd16327-6a8b-4c79-abd6-dafe8b22e1b4",
   "metadata": {},
   "source": [
    "### The shape of the input is 11054 (rows) and 31 (variables)"
   ]
  },
  {
   "cell_type": "code",
   "execution_count": 7,
   "id": "5134b073-7c47-47c9-b58c-b2a066307dd9",
   "metadata": {},
   "outputs": [
    {
     "data": {
      "text/plain": [
       "Index(['-1', '1', '1.1', '1.2', '-1.1', '-1.2', '-1.3', '-1.4', '-1.5', '1.3',\n",
       "       '1.4', '-1.6', '1.5', '-1.7', '1.6', '-1.8', '-1.9', '-1.10', '0',\n",
       "       '1.7', '1.8', '1.9', '1.10', '-1.11', '-1.12', '-1.13', '-1.14', '1.11',\n",
       "       '1.12', '-1.15', '-1.16'],\n",
       "      dtype='object')"
      ]
     },
     "execution_count": 7,
     "metadata": {},
     "output_type": "execute_result"
    }
   ],
   "source": [
    "data.columns"
   ]
  },
  {
   "cell_type": "markdown",
   "id": "fa54dea5-fa17-4896-a86a-de44a53dd382",
   "metadata": {},
   "source": [
    "### Columns return the first row which means the columns are not indexed. So the column names are added in the next section"
   ]
  },
  {
   "cell_type": "code",
   "execution_count": 8,
   "id": "0c75145e-351e-4b87-8f11-9fb4ba9cea39",
   "metadata": {},
   "outputs": [],
   "source": [
    "data.columns=['UsingIP', 'LongURL', 'ShortURL', 'Symbol@', 'Redirecting//',\n",
    "           'PrefixSuffix-', 'SubDomains', 'HTTPS', 'DomainRegLen', 'Favicon',\n",
    "           'NonStdPort', 'HTTPSDomainURL', 'RequestURL', 'AnchorURL',\n",
    "           'LinksInScriptTags', 'ServerFormHandler', 'InfoEmail', 'AbnormalURL',\n",
    "           'WebsiteForwarding', 'StatusBarCust', 'DisableRightClick',\n",
    "           'UsingPopupWindow', 'IframeRedirection', 'AgeofDomain',\n",
    "           'DNSRecording', 'WebsiteTraffic', 'PageRank', 'GoogleIndex',\n",
    "           'LinksPointingToPage', 'StatsReport', 'class' ]\n"
   ]
  },
  {
   "cell_type": "code",
   "execution_count": 6,
   "id": "4346a6cc-a1ee-4818-bda8-36d1b5bdd2f7",
   "metadata": {},
   "outputs": [
    {
     "name": "stdout",
     "output_type": "stream",
     "text": [
      "<class 'pandas.core.frame.DataFrame'>\n",
      "RangeIndex: 11054 entries, 0 to 11053\n",
      "Data columns (total 31 columns):\n",
      " #   Column               Non-Null Count  Dtype\n",
      "---  ------               --------------  -----\n",
      " 0   UsingIP              11054 non-null  int64\n",
      " 1   LongURL              11054 non-null  int64\n",
      " 2   ShortURL             11054 non-null  int64\n",
      " 3   Symbol@              11054 non-null  int64\n",
      " 4   Redirecting//        11054 non-null  int64\n",
      " 5   PrefixSuffix-        11054 non-null  int64\n",
      " 6   SubDomains           11054 non-null  int64\n",
      " 7   HTTPS                11054 non-null  int64\n",
      " 8   DomainRegLen         11054 non-null  int64\n",
      " 9   Favicon              11054 non-null  int64\n",
      " 10  NonStdPort           11054 non-null  int64\n",
      " 11  HTTPSDomainURL       11054 non-null  int64\n",
      " 12  RequestURL           11054 non-null  int64\n",
      " 13  AnchorURL            11054 non-null  int64\n",
      " 14  LinksInScriptTags    11054 non-null  int64\n",
      " 15  ServerFormHandler    11054 non-null  int64\n",
      " 16  InfoEmail            11054 non-null  int64\n",
      " 17  AbnormalURL          11054 non-null  int64\n",
      " 18  WebsiteForwarding    11054 non-null  int64\n",
      " 19  StatusBarCust        11054 non-null  int64\n",
      " 20  DisableRightClick    11054 non-null  int64\n",
      " 21  UsingPopupWindow     11054 non-null  int64\n",
      " 22  IframeRedirection    11054 non-null  int64\n",
      " 23  AgeofDomain          11054 non-null  int64\n",
      " 24  DNSRecording         11054 non-null  int64\n",
      " 25  WebsiteTraffic       11054 non-null  int64\n",
      " 26  PageRank             11054 non-null  int64\n",
      " 27  GoogleIndex          11054 non-null  int64\n",
      " 28  LinksPointingToPage  11054 non-null  int64\n",
      " 29  StatsReport          11054 non-null  int64\n",
      " 30  class                11054 non-null  int64\n",
      "dtypes: int64(31)\n",
      "memory usage: 2.6 MB\n"
     ]
    }
   ],
   "source": [
    "data.info()"
   ]
  },
  {
   "cell_type": "markdown",
   "id": "dc8ef927-56c7-4b48-8db1-d7de3495cbeb",
   "metadata": {},
   "source": [
    "### No missing values in the data as all variables/ columns have 11054 non-null elements which is equivalent to the rows of the data"
   ]
  },
  {
   "cell_type": "code",
   "execution_count": 7,
   "id": "082df9bf-5ee7-4d9d-9805-ee40f59b54f2",
   "metadata": {},
   "outputs": [
    {
     "data": {
      "text/html": [
       "<div>\n",
       "<style scoped>\n",
       "    .dataframe tbody tr th:only-of-type {\n",
       "        vertical-align: middle;\n",
       "    }\n",
       "\n",
       "    .dataframe tbody tr th {\n",
       "        vertical-align: top;\n",
       "    }\n",
       "\n",
       "    .dataframe thead th {\n",
       "        text-align: right;\n",
       "    }\n",
       "</style>\n",
       "<table border=\"1\" class=\"dataframe\">\n",
       "  <thead>\n",
       "    <tr style=\"text-align: right;\">\n",
       "      <th></th>\n",
       "      <th>UsingIP</th>\n",
       "      <th>LongURL</th>\n",
       "      <th>ShortURL</th>\n",
       "      <th>Symbol@</th>\n",
       "      <th>Redirecting//</th>\n",
       "      <th>PrefixSuffix-</th>\n",
       "      <th>SubDomains</th>\n",
       "      <th>HTTPS</th>\n",
       "      <th>DomainRegLen</th>\n",
       "      <th>Favicon</th>\n",
       "      <th>...</th>\n",
       "      <th>UsingPopupWindow</th>\n",
       "      <th>IframeRedirection</th>\n",
       "      <th>AgeofDomain</th>\n",
       "      <th>DNSRecording</th>\n",
       "      <th>WebsiteTraffic</th>\n",
       "      <th>PageRank</th>\n",
       "      <th>GoogleIndex</th>\n",
       "      <th>LinksPointingToPage</th>\n",
       "      <th>StatsReport</th>\n",
       "      <th>class</th>\n",
       "    </tr>\n",
       "  </thead>\n",
       "  <tbody>\n",
       "    <tr>\n",
       "      <th>0</th>\n",
       "      <td>1</td>\n",
       "      <td>1</td>\n",
       "      <td>1</td>\n",
       "      <td>1</td>\n",
       "      <td>1</td>\n",
       "      <td>-1</td>\n",
       "      <td>0</td>\n",
       "      <td>1</td>\n",
       "      <td>-1</td>\n",
       "      <td>1</td>\n",
       "      <td>...</td>\n",
       "      <td>1</td>\n",
       "      <td>1</td>\n",
       "      <td>-1</td>\n",
       "      <td>-1</td>\n",
       "      <td>0</td>\n",
       "      <td>-1</td>\n",
       "      <td>1</td>\n",
       "      <td>1</td>\n",
       "      <td>1</td>\n",
       "      <td>-1</td>\n",
       "    </tr>\n",
       "    <tr>\n",
       "      <th>1</th>\n",
       "      <td>1</td>\n",
       "      <td>0</td>\n",
       "      <td>1</td>\n",
       "      <td>1</td>\n",
       "      <td>1</td>\n",
       "      <td>-1</td>\n",
       "      <td>-1</td>\n",
       "      <td>-1</td>\n",
       "      <td>-1</td>\n",
       "      <td>1</td>\n",
       "      <td>...</td>\n",
       "      <td>1</td>\n",
       "      <td>1</td>\n",
       "      <td>1</td>\n",
       "      <td>-1</td>\n",
       "      <td>1</td>\n",
       "      <td>-1</td>\n",
       "      <td>1</td>\n",
       "      <td>0</td>\n",
       "      <td>-1</td>\n",
       "      <td>-1</td>\n",
       "    </tr>\n",
       "    <tr>\n",
       "      <th>2</th>\n",
       "      <td>1</td>\n",
       "      <td>0</td>\n",
       "      <td>1</td>\n",
       "      <td>1</td>\n",
       "      <td>1</td>\n",
       "      <td>-1</td>\n",
       "      <td>-1</td>\n",
       "      <td>-1</td>\n",
       "      <td>1</td>\n",
       "      <td>1</td>\n",
       "      <td>...</td>\n",
       "      <td>1</td>\n",
       "      <td>1</td>\n",
       "      <td>-1</td>\n",
       "      <td>-1</td>\n",
       "      <td>1</td>\n",
       "      <td>-1</td>\n",
       "      <td>1</td>\n",
       "      <td>-1</td>\n",
       "      <td>1</td>\n",
       "      <td>-1</td>\n",
       "    </tr>\n",
       "    <tr>\n",
       "      <th>3</th>\n",
       "      <td>1</td>\n",
       "      <td>0</td>\n",
       "      <td>-1</td>\n",
       "      <td>1</td>\n",
       "      <td>1</td>\n",
       "      <td>-1</td>\n",
       "      <td>1</td>\n",
       "      <td>1</td>\n",
       "      <td>-1</td>\n",
       "      <td>1</td>\n",
       "      <td>...</td>\n",
       "      <td>-1</td>\n",
       "      <td>1</td>\n",
       "      <td>-1</td>\n",
       "      <td>-1</td>\n",
       "      <td>0</td>\n",
       "      <td>-1</td>\n",
       "      <td>1</td>\n",
       "      <td>1</td>\n",
       "      <td>1</td>\n",
       "      <td>1</td>\n",
       "    </tr>\n",
       "    <tr>\n",
       "      <th>4</th>\n",
       "      <td>-1</td>\n",
       "      <td>0</td>\n",
       "      <td>-1</td>\n",
       "      <td>1</td>\n",
       "      <td>-1</td>\n",
       "      <td>-1</td>\n",
       "      <td>1</td>\n",
       "      <td>1</td>\n",
       "      <td>-1</td>\n",
       "      <td>1</td>\n",
       "      <td>...</td>\n",
       "      <td>1</td>\n",
       "      <td>1</td>\n",
       "      <td>1</td>\n",
       "      <td>1</td>\n",
       "      <td>1</td>\n",
       "      <td>-1</td>\n",
       "      <td>1</td>\n",
       "      <td>-1</td>\n",
       "      <td>-1</td>\n",
       "      <td>1</td>\n",
       "    </tr>\n",
       "  </tbody>\n",
       "</table>\n",
       "<p>5 rows × 31 columns</p>\n",
       "</div>"
      ],
      "text/plain": [
       "   UsingIP  LongURL  ShortURL  Symbol@  Redirecting//  PrefixSuffix-  \\\n",
       "0        1        1         1        1              1             -1   \n",
       "1        1        0         1        1              1             -1   \n",
       "2        1        0         1        1              1             -1   \n",
       "3        1        0        -1        1              1             -1   \n",
       "4       -1        0        -1        1             -1             -1   \n",
       "\n",
       "   SubDomains  HTTPS  DomainRegLen  Favicon  ...  UsingPopupWindow  \\\n",
       "0           0      1            -1        1  ...                 1   \n",
       "1          -1     -1            -1        1  ...                 1   \n",
       "2          -1     -1             1        1  ...                 1   \n",
       "3           1      1            -1        1  ...                -1   \n",
       "4           1      1            -1        1  ...                 1   \n",
       "\n",
       "   IframeRedirection  AgeofDomain  DNSRecording  WebsiteTraffic  PageRank  \\\n",
       "0                  1           -1            -1               0        -1   \n",
       "1                  1            1            -1               1        -1   \n",
       "2                  1           -1            -1               1        -1   \n",
       "3                  1           -1            -1               0        -1   \n",
       "4                  1            1             1               1        -1   \n",
       "\n",
       "   GoogleIndex  LinksPointingToPage  StatsReport  class  \n",
       "0            1                    1            1     -1  \n",
       "1            1                    0           -1     -1  \n",
       "2            1                   -1            1     -1  \n",
       "3            1                    1            1      1  \n",
       "4            1                   -1           -1      1  \n",
       "\n",
       "[5 rows x 31 columns]"
      ]
     },
     "execution_count": 7,
     "metadata": {},
     "output_type": "execute_result"
    }
   ],
   "source": [
    "data.head()"
   ]
  },
  {
   "cell_type": "markdown",
   "id": "fc5b5428-09a5-4aa2-a731-7fd334be4487",
   "metadata": {},
   "source": [
    "### The column index are added"
   ]
  },
  {
   "cell_type": "code",
   "execution_count": 8,
   "id": "735e8846-af68-4861-92bf-a3b9c77e9d72",
   "metadata": {},
   "outputs": [
    {
     "data": {
      "text/plain": [
       "(11054, 31)"
      ]
     },
     "execution_count": 8,
     "metadata": {},
     "output_type": "execute_result"
    }
   ],
   "source": [
    "data.shape\n"
   ]
  },
  {
   "cell_type": "markdown",
   "id": "a5a01265-2e90-439b-9ebb-bbd8a77497f5",
   "metadata": {},
   "source": [
    "### Here Class is the target variable which says if the URL is phishing (1) or not phishing (-1)\n",
    "### So the data is split with X representing all other indepedant variable and y representing class as dependant variable."
   ]
  },
  {
   "cell_type": "code",
   "execution_count": 9,
   "id": "52a33f16-7629-4683-815d-09685e606d8e",
   "metadata": {},
   "outputs": [
    {
     "data": {
      "text/html": [
       "<div>\n",
       "<style scoped>\n",
       "    .dataframe tbody tr th:only-of-type {\n",
       "        vertical-align: middle;\n",
       "    }\n",
       "\n",
       "    .dataframe tbody tr th {\n",
       "        vertical-align: top;\n",
       "    }\n",
       "\n",
       "    .dataframe thead th {\n",
       "        text-align: right;\n",
       "    }\n",
       "</style>\n",
       "<table border=\"1\" class=\"dataframe\">\n",
       "  <thead>\n",
       "    <tr style=\"text-align: right;\">\n",
       "      <th></th>\n",
       "      <th>UsingIP</th>\n",
       "      <th>LongURL</th>\n",
       "      <th>ShortURL</th>\n",
       "      <th>Symbol@</th>\n",
       "      <th>Redirecting//</th>\n",
       "      <th>PrefixSuffix-</th>\n",
       "      <th>SubDomains</th>\n",
       "      <th>HTTPS</th>\n",
       "      <th>DomainRegLen</th>\n",
       "      <th>Favicon</th>\n",
       "      <th>...</th>\n",
       "      <th>StatusBarCust</th>\n",
       "      <th>DisableRightClick</th>\n",
       "      <th>UsingPopupWindow</th>\n",
       "      <th>IframeRedirection</th>\n",
       "      <th>AgeofDomain</th>\n",
       "      <th>DNSRecording</th>\n",
       "      <th>WebsiteTraffic</th>\n",
       "      <th>PageRank</th>\n",
       "      <th>GoogleIndex</th>\n",
       "      <th>LinksPointingToPage</th>\n",
       "    </tr>\n",
       "  </thead>\n",
       "  <tbody>\n",
       "    <tr>\n",
       "      <th>0</th>\n",
       "      <td>1</td>\n",
       "      <td>1</td>\n",
       "      <td>1</td>\n",
       "      <td>1</td>\n",
       "      <td>1</td>\n",
       "      <td>-1</td>\n",
       "      <td>0</td>\n",
       "      <td>1</td>\n",
       "      <td>-1</td>\n",
       "      <td>1</td>\n",
       "      <td>...</td>\n",
       "      <td>1</td>\n",
       "      <td>1</td>\n",
       "      <td>1</td>\n",
       "      <td>1</td>\n",
       "      <td>-1</td>\n",
       "      <td>-1</td>\n",
       "      <td>0</td>\n",
       "      <td>-1</td>\n",
       "      <td>1</td>\n",
       "      <td>1</td>\n",
       "    </tr>\n",
       "    <tr>\n",
       "      <th>1</th>\n",
       "      <td>1</td>\n",
       "      <td>0</td>\n",
       "      <td>1</td>\n",
       "      <td>1</td>\n",
       "      <td>1</td>\n",
       "      <td>-1</td>\n",
       "      <td>-1</td>\n",
       "      <td>-1</td>\n",
       "      <td>-1</td>\n",
       "      <td>1</td>\n",
       "      <td>...</td>\n",
       "      <td>1</td>\n",
       "      <td>1</td>\n",
       "      <td>1</td>\n",
       "      <td>1</td>\n",
       "      <td>1</td>\n",
       "      <td>-1</td>\n",
       "      <td>1</td>\n",
       "      <td>-1</td>\n",
       "      <td>1</td>\n",
       "      <td>0</td>\n",
       "    </tr>\n",
       "    <tr>\n",
       "      <th>2</th>\n",
       "      <td>1</td>\n",
       "      <td>0</td>\n",
       "      <td>1</td>\n",
       "      <td>1</td>\n",
       "      <td>1</td>\n",
       "      <td>-1</td>\n",
       "      <td>-1</td>\n",
       "      <td>-1</td>\n",
       "      <td>1</td>\n",
       "      <td>1</td>\n",
       "      <td>...</td>\n",
       "      <td>1</td>\n",
       "      <td>1</td>\n",
       "      <td>1</td>\n",
       "      <td>1</td>\n",
       "      <td>-1</td>\n",
       "      <td>-1</td>\n",
       "      <td>1</td>\n",
       "      <td>-1</td>\n",
       "      <td>1</td>\n",
       "      <td>-1</td>\n",
       "    </tr>\n",
       "    <tr>\n",
       "      <th>3</th>\n",
       "      <td>1</td>\n",
       "      <td>0</td>\n",
       "      <td>-1</td>\n",
       "      <td>1</td>\n",
       "      <td>1</td>\n",
       "      <td>-1</td>\n",
       "      <td>1</td>\n",
       "      <td>1</td>\n",
       "      <td>-1</td>\n",
       "      <td>1</td>\n",
       "      <td>...</td>\n",
       "      <td>-1</td>\n",
       "      <td>1</td>\n",
       "      <td>-1</td>\n",
       "      <td>1</td>\n",
       "      <td>-1</td>\n",
       "      <td>-1</td>\n",
       "      <td>0</td>\n",
       "      <td>-1</td>\n",
       "      <td>1</td>\n",
       "      <td>1</td>\n",
       "    </tr>\n",
       "    <tr>\n",
       "      <th>4</th>\n",
       "      <td>-1</td>\n",
       "      <td>0</td>\n",
       "      <td>-1</td>\n",
       "      <td>1</td>\n",
       "      <td>-1</td>\n",
       "      <td>-1</td>\n",
       "      <td>1</td>\n",
       "      <td>1</td>\n",
       "      <td>-1</td>\n",
       "      <td>1</td>\n",
       "      <td>...</td>\n",
       "      <td>1</td>\n",
       "      <td>1</td>\n",
       "      <td>1</td>\n",
       "      <td>1</td>\n",
       "      <td>1</td>\n",
       "      <td>1</td>\n",
       "      <td>1</td>\n",
       "      <td>-1</td>\n",
       "      <td>1</td>\n",
       "      <td>-1</td>\n",
       "    </tr>\n",
       "  </tbody>\n",
       "</table>\n",
       "<p>5 rows × 29 columns</p>\n",
       "</div>"
      ],
      "text/plain": [
       "   UsingIP  LongURL  ShortURL  Symbol@  Redirecting//  PrefixSuffix-  \\\n",
       "0        1        1         1        1              1             -1   \n",
       "1        1        0         1        1              1             -1   \n",
       "2        1        0         1        1              1             -1   \n",
       "3        1        0        -1        1              1             -1   \n",
       "4       -1        0        -1        1             -1             -1   \n",
       "\n",
       "   SubDomains  HTTPS  DomainRegLen  Favicon  ...  StatusBarCust  \\\n",
       "0           0      1            -1        1  ...              1   \n",
       "1          -1     -1            -1        1  ...              1   \n",
       "2          -1     -1             1        1  ...              1   \n",
       "3           1      1            -1        1  ...             -1   \n",
       "4           1      1            -1        1  ...              1   \n",
       "\n",
       "   DisableRightClick  UsingPopupWindow  IframeRedirection  AgeofDomain  \\\n",
       "0                  1                 1                  1           -1   \n",
       "1                  1                 1                  1            1   \n",
       "2                  1                 1                  1           -1   \n",
       "3                  1                -1                  1           -1   \n",
       "4                  1                 1                  1            1   \n",
       "\n",
       "   DNSRecording  WebsiteTraffic  PageRank  GoogleIndex  LinksPointingToPage  \n",
       "0            -1               0        -1            1                    1  \n",
       "1            -1               1        -1            1                    0  \n",
       "2            -1               1        -1            1                   -1  \n",
       "3            -1               0        -1            1                    1  \n",
       "4             1               1        -1            1                   -1  \n",
       "\n",
       "[5 rows x 29 columns]"
      ]
     },
     "execution_count": 9,
     "metadata": {},
     "output_type": "execute_result"
    }
   ],
   "source": [
    "X=data.iloc[:,0:-2]\n",
    "y=data.iloc[:,-1]\n",
    "X.head()\n"
   ]
  },
  {
   "cell_type": "markdown",
   "id": "67f911dc-547c-4047-b436-8044de8a2536",
   "metadata": {},
   "source": [
    "# Split data into train and test"
   ]
  },
  {
   "cell_type": "markdown",
   "id": "834b1d94-8de7-436f-9ce4-9aa1b79d7cc1",
   "metadata": {},
   "source": [
    "### train_test_split module of sklearn is used to split the data such that 70% of data is in training and 30% data is in testing"
   ]
  },
  {
   "cell_type": "code",
   "execution_count": 10,
   "id": "b25f13ab-4ae4-492b-a208-f894cb088986",
   "metadata": {},
   "outputs": [],
   "source": [
    "from sklearn.model_selection import train_test_split\n",
    "X_train, X_test, y_train, y_test = train_test_split(X, y, train_size=0.7, random_state= 123)"
   ]
  },
  {
   "cell_type": "markdown",
   "id": "bf0a2c86-c076-47f2-af8d-762c8d80a6d5",
   "metadata": {},
   "source": [
    "### Since the given problem is binary classification, logistic regression is used for the classification. LogisticRegression module is loaded from the scikit learn to be used to train the data"
   ]
  },
  {
   "cell_type": "code",
   "execution_count": 11,
   "id": "4c695d4b-ef28-4241-bc75-e0aed7a04047",
   "metadata": {},
   "outputs": [
    {
     "data": {
      "text/html": [
       "<style>#sk-container-id-1 {color: black;}#sk-container-id-1 pre{padding: 0;}#sk-container-id-1 div.sk-toggleable {background-color: white;}#sk-container-id-1 label.sk-toggleable__label {cursor: pointer;display: block;width: 100%;margin-bottom: 0;padding: 0.3em;box-sizing: border-box;text-align: center;}#sk-container-id-1 label.sk-toggleable__label-arrow:before {content: \"▸\";float: left;margin-right: 0.25em;color: #696969;}#sk-container-id-1 label.sk-toggleable__label-arrow:hover:before {color: black;}#sk-container-id-1 div.sk-estimator:hover label.sk-toggleable__label-arrow:before {color: black;}#sk-container-id-1 div.sk-toggleable__content {max-height: 0;max-width: 0;overflow: hidden;text-align: left;background-color: #f0f8ff;}#sk-container-id-1 div.sk-toggleable__content pre {margin: 0.2em;color: black;border-radius: 0.25em;background-color: #f0f8ff;}#sk-container-id-1 input.sk-toggleable__control:checked~div.sk-toggleable__content {max-height: 200px;max-width: 100%;overflow: auto;}#sk-container-id-1 input.sk-toggleable__control:checked~label.sk-toggleable__label-arrow:before {content: \"▾\";}#sk-container-id-1 div.sk-estimator input.sk-toggleable__control:checked~label.sk-toggleable__label {background-color: #d4ebff;}#sk-container-id-1 div.sk-label input.sk-toggleable__control:checked~label.sk-toggleable__label {background-color: #d4ebff;}#sk-container-id-1 input.sk-hidden--visually {border: 0;clip: rect(1px 1px 1px 1px);clip: rect(1px, 1px, 1px, 1px);height: 1px;margin: -1px;overflow: hidden;padding: 0;position: absolute;width: 1px;}#sk-container-id-1 div.sk-estimator {font-family: monospace;background-color: #f0f8ff;border: 1px dotted black;border-radius: 0.25em;box-sizing: border-box;margin-bottom: 0.5em;}#sk-container-id-1 div.sk-estimator:hover {background-color: #d4ebff;}#sk-container-id-1 div.sk-parallel-item::after {content: \"\";width: 100%;border-bottom: 1px solid gray;flex-grow: 1;}#sk-container-id-1 div.sk-label:hover label.sk-toggleable__label {background-color: #d4ebff;}#sk-container-id-1 div.sk-serial::before {content: \"\";position: absolute;border-left: 1px solid gray;box-sizing: border-box;top: 0;bottom: 0;left: 50%;z-index: 0;}#sk-container-id-1 div.sk-serial {display: flex;flex-direction: column;align-items: center;background-color: white;padding-right: 0.2em;padding-left: 0.2em;position: relative;}#sk-container-id-1 div.sk-item {position: relative;z-index: 1;}#sk-container-id-1 div.sk-parallel {display: flex;align-items: stretch;justify-content: center;background-color: white;position: relative;}#sk-container-id-1 div.sk-item::before, #sk-container-id-1 div.sk-parallel-item::before {content: \"\";position: absolute;border-left: 1px solid gray;box-sizing: border-box;top: 0;bottom: 0;left: 50%;z-index: -1;}#sk-container-id-1 div.sk-parallel-item {display: flex;flex-direction: column;z-index: 1;position: relative;background-color: white;}#sk-container-id-1 div.sk-parallel-item:first-child::after {align-self: flex-end;width: 50%;}#sk-container-id-1 div.sk-parallel-item:last-child::after {align-self: flex-start;width: 50%;}#sk-container-id-1 div.sk-parallel-item:only-child::after {width: 0;}#sk-container-id-1 div.sk-dashed-wrapped {border: 1px dashed gray;margin: 0 0.4em 0.5em 0.4em;box-sizing: border-box;padding-bottom: 0.4em;background-color: white;}#sk-container-id-1 div.sk-label label {font-family: monospace;font-weight: bold;display: inline-block;line-height: 1.2em;}#sk-container-id-1 div.sk-label-container {text-align: center;}#sk-container-id-1 div.sk-container {/* jupyter's `normalize.less` sets `[hidden] { display: none; }` but bootstrap.min.css set `[hidden] { display: none !important; }` so we also need the `!important` here to be able to override the default hidden behavior on the sphinx rendered scikit-learn.org. See: https://github.com/scikit-learn/scikit-learn/issues/21755 */display: inline-block !important;position: relative;}#sk-container-id-1 div.sk-text-repr-fallback {display: none;}</style><div id=\"sk-container-id-1\" class=\"sk-top-container\"><div class=\"sk-text-repr-fallback\"><pre>LogisticRegression()</pre><b>In a Jupyter environment, please rerun this cell to show the HTML representation or trust the notebook. <br />On GitHub, the HTML representation is unable to render, please try loading this page with nbviewer.org.</b></div><div class=\"sk-container\" hidden><div class=\"sk-item\"><div class=\"sk-estimator sk-toggleable\"><input class=\"sk-toggleable__control sk-hidden--visually\" id=\"sk-estimator-id-1\" type=\"checkbox\" checked><label for=\"sk-estimator-id-1\" class=\"sk-toggleable__label sk-toggleable__label-arrow\">LogisticRegression</label><div class=\"sk-toggleable__content\"><pre>LogisticRegression()</pre></div></div></div></div></div>"
      ],
      "text/plain": [
       "LogisticRegression()"
      ]
     },
     "execution_count": 11,
     "metadata": {},
     "output_type": "execute_result"
    }
   ],
   "source": [
    "from sklearn.linear_model import LogisticRegression\n",
    "log_reg=LogisticRegression()\n",
    "log_reg.fit(X_train,y_train)"
   ]
  },
  {
   "cell_type": "markdown",
   "id": "65fa14d9-8e99-449b-8a0d-3eba8b0b79e7",
   "metadata": {},
   "source": [
    "### Model is fit using xtrain and ytrain"
   ]
  },
  {
   "cell_type": "code",
   "execution_count": 12,
   "id": "c72c0f39-f5ee-422e-8818-33a7e3c7f316",
   "metadata": {},
   "outputs": [],
   "source": [
    "prediction_train=log_reg.predict(X_train)"
   ]
  },
  {
   "cell_type": "markdown",
   "id": "398ff336-6bf5-4c58-8d46-96fdcd11b780",
   "metadata": {},
   "source": [
    "### The fitted model is used to initially predict the training data"
   ]
  },
  {
   "cell_type": "markdown",
   "id": "6b780c64-c93a-415b-b163-95f40b679b44",
   "metadata": {},
   "source": [
    "### To understand the performance of the fitted model, confusion matrix and classification reports are generated. Sklearn is again used to import respective models."
   ]
  },
  {
   "cell_type": "code",
   "execution_count": 13,
   "id": "33e1b74b-d641-4a4e-a0a0-0d1bc8c418d7",
   "metadata": {},
   "outputs": [
    {
     "name": "stdout",
     "output_type": "stream",
     "text": [
      "Confusion Matrix for train data \n",
      " [[3118  314]\n",
      " [ 223 4082]]\n",
      "\n",
      "Classification Report for train data \n",
      "\n",
      "              precision    recall  f1-score   support\n",
      "\n",
      "          -1       0.93      0.91      0.92      3432\n",
      "           1       0.93      0.95      0.94      4305\n",
      "\n",
      "    accuracy                           0.93      7737\n",
      "   macro avg       0.93      0.93      0.93      7737\n",
      "weighted avg       0.93      0.93      0.93      7737\n",
      "\n"
     ]
    }
   ],
   "source": [
    "from sklearn.metrics import confusion_matrix\n",
    "from sklearn.metrics import classification_report\n",
    "\n",
    "print(\"Confusion Matrix for train data \\n\", confusion_matrix(y_train, prediction_train))\n",
    "\n",
    "print(\"\\nClassification Report for train data \\n\")\n",
    "\n",
    "print(classification_report(y_train, prediction_train))\n",
    "\n"
   ]
  },
  {
   "cell_type": "markdown",
   "id": "86784b58-1714-4c3a-b3cd-05b7792b5e9c",
   "metadata": {},
   "source": [
    "### Looking at the classification report, the accuracy of the model is around 93%. Which is not so bad. So for this model predictons will be made for test data. "
   ]
  },
  {
   "cell_type": "markdown",
   "id": "b6166606-2f6a-439d-b28f-e271cc00399f",
   "metadata": {},
   "source": [
    "### Once the model is trained for 93% accuracy, the testing data is used to predict the y values. The confusion matrix and classification report are generated for the test data as well."
   ]
  },
  {
   "cell_type": "code",
   "execution_count": 14,
   "id": "ee574f86-825e-4478-bdd0-68a5b316b9c6",
   "metadata": {},
   "outputs": [
    {
     "name": "stdout",
     "output_type": "stream",
     "text": [
      "Confusion Matrix for test data \n",
      " [[1333  132]\n",
      " [ 107 1745]]\n",
      "\n",
      "Classification Report for test data \n",
      "\n",
      "              precision    recall  f1-score   support\n",
      "\n",
      "          -1       0.93      0.91      0.92      1465\n",
      "           1       0.93      0.94      0.94      1852\n",
      "\n",
      "    accuracy                           0.93      3317\n",
      "   macro avg       0.93      0.93      0.93      3317\n",
      "weighted avg       0.93      0.93      0.93      3317\n",
      "\n"
     ]
    }
   ],
   "source": [
    "prediction_test = log_reg.predict(X_test)\n",
    "prediction_test\n",
    "print(\"Confusion Matrix for test data \\n\", confusion_matrix(y_test, prediction_test))\n",
    "\n",
    "print(\"\\nClassification Report for test data \\n\")\n",
    "\n",
    "print(classification_report(y_test, prediction_test))"
   ]
  },
  {
   "cell_type": "markdown",
   "id": "9eee596d-b211-4770-8f08-a9ae49056422",
   "metadata": {},
   "source": [
    "### Even the test data has same 93% accuracy level. So it is not an overfit model. "
   ]
  },
  {
   "cell_type": "markdown",
   "id": "18867830-622b-4e21-9693-d95a9df55c27",
   "metadata": {},
   "source": [
    "### Next the parameter C representing regularization strength is changed to 100 to see if there is an improvement in the accuracy. Unfortunately the accuracy dint improve much"
   ]
  },
  {
   "cell_type": "code",
   "execution_count": 17,
   "id": "55902c3a-1847-496e-9dc8-2c3b8eea44a7",
   "metadata": {},
   "outputs": [
    {
     "data": {
      "text/html": [
       "<style>#sk-container-id-3 {color: black;}#sk-container-id-3 pre{padding: 0;}#sk-container-id-3 div.sk-toggleable {background-color: white;}#sk-container-id-3 label.sk-toggleable__label {cursor: pointer;display: block;width: 100%;margin-bottom: 0;padding: 0.3em;box-sizing: border-box;text-align: center;}#sk-container-id-3 label.sk-toggleable__label-arrow:before {content: \"▸\";float: left;margin-right: 0.25em;color: #696969;}#sk-container-id-3 label.sk-toggleable__label-arrow:hover:before {color: black;}#sk-container-id-3 div.sk-estimator:hover label.sk-toggleable__label-arrow:before {color: black;}#sk-container-id-3 div.sk-toggleable__content {max-height: 0;max-width: 0;overflow: hidden;text-align: left;background-color: #f0f8ff;}#sk-container-id-3 div.sk-toggleable__content pre {margin: 0.2em;color: black;border-radius: 0.25em;background-color: #f0f8ff;}#sk-container-id-3 input.sk-toggleable__control:checked~div.sk-toggleable__content {max-height: 200px;max-width: 100%;overflow: auto;}#sk-container-id-3 input.sk-toggleable__control:checked~label.sk-toggleable__label-arrow:before {content: \"▾\";}#sk-container-id-3 div.sk-estimator input.sk-toggleable__control:checked~label.sk-toggleable__label {background-color: #d4ebff;}#sk-container-id-3 div.sk-label input.sk-toggleable__control:checked~label.sk-toggleable__label {background-color: #d4ebff;}#sk-container-id-3 input.sk-hidden--visually {border: 0;clip: rect(1px 1px 1px 1px);clip: rect(1px, 1px, 1px, 1px);height: 1px;margin: -1px;overflow: hidden;padding: 0;position: absolute;width: 1px;}#sk-container-id-3 div.sk-estimator {font-family: monospace;background-color: #f0f8ff;border: 1px dotted black;border-radius: 0.25em;box-sizing: border-box;margin-bottom: 0.5em;}#sk-container-id-3 div.sk-estimator:hover {background-color: #d4ebff;}#sk-container-id-3 div.sk-parallel-item::after {content: \"\";width: 100%;border-bottom: 1px solid gray;flex-grow: 1;}#sk-container-id-3 div.sk-label:hover label.sk-toggleable__label {background-color: #d4ebff;}#sk-container-id-3 div.sk-serial::before {content: \"\";position: absolute;border-left: 1px solid gray;box-sizing: border-box;top: 0;bottom: 0;left: 50%;z-index: 0;}#sk-container-id-3 div.sk-serial {display: flex;flex-direction: column;align-items: center;background-color: white;padding-right: 0.2em;padding-left: 0.2em;position: relative;}#sk-container-id-3 div.sk-item {position: relative;z-index: 1;}#sk-container-id-3 div.sk-parallel {display: flex;align-items: stretch;justify-content: center;background-color: white;position: relative;}#sk-container-id-3 div.sk-item::before, #sk-container-id-3 div.sk-parallel-item::before {content: \"\";position: absolute;border-left: 1px solid gray;box-sizing: border-box;top: 0;bottom: 0;left: 50%;z-index: -1;}#sk-container-id-3 div.sk-parallel-item {display: flex;flex-direction: column;z-index: 1;position: relative;background-color: white;}#sk-container-id-3 div.sk-parallel-item:first-child::after {align-self: flex-end;width: 50%;}#sk-container-id-3 div.sk-parallel-item:last-child::after {align-self: flex-start;width: 50%;}#sk-container-id-3 div.sk-parallel-item:only-child::after {width: 0;}#sk-container-id-3 div.sk-dashed-wrapped {border: 1px dashed gray;margin: 0 0.4em 0.5em 0.4em;box-sizing: border-box;padding-bottom: 0.4em;background-color: white;}#sk-container-id-3 div.sk-label label {font-family: monospace;font-weight: bold;display: inline-block;line-height: 1.2em;}#sk-container-id-3 div.sk-label-container {text-align: center;}#sk-container-id-3 div.sk-container {/* jupyter's `normalize.less` sets `[hidden] { display: none; }` but bootstrap.min.css set `[hidden] { display: none !important; }` so we also need the `!important` here to be able to override the default hidden behavior on the sphinx rendered scikit-learn.org. See: https://github.com/scikit-learn/scikit-learn/issues/21755 */display: inline-block !important;position: relative;}#sk-container-id-3 div.sk-text-repr-fallback {display: none;}</style><div id=\"sk-container-id-3\" class=\"sk-top-container\"><div class=\"sk-text-repr-fallback\"><pre>LogisticRegression(C=100)</pre><b>In a Jupyter environment, please rerun this cell to show the HTML representation or trust the notebook. <br />On GitHub, the HTML representation is unable to render, please try loading this page with nbviewer.org.</b></div><div class=\"sk-container\" hidden><div class=\"sk-item\"><div class=\"sk-estimator sk-toggleable\"><input class=\"sk-toggleable__control sk-hidden--visually\" id=\"sk-estimator-id-3\" type=\"checkbox\" checked><label for=\"sk-estimator-id-3\" class=\"sk-toggleable__label sk-toggleable__label-arrow\">LogisticRegression</label><div class=\"sk-toggleable__content\"><pre>LogisticRegression(C=100)</pre></div></div></div></div></div>"
      ],
      "text/plain": [
       "LogisticRegression(C=100)"
      ]
     },
     "execution_count": 17,
     "metadata": {},
     "output_type": "execute_result"
    }
   ],
   "source": [
    "from sklearn.linear_model import LogisticRegression\n",
    "log_reg=LogisticRegression(C=100)\n",
    "log_reg.fit(X_train,y_train)\n",
    "\n"
   ]
  },
  {
   "cell_type": "code",
   "execution_count": 18,
   "id": "93c31b4e-48c8-4003-ac01-d50b38dd1de8",
   "metadata": {},
   "outputs": [],
   "source": [
    "prediction_train=log_reg.predict(X_train)"
   ]
  },
  {
   "cell_type": "code",
   "execution_count": 19,
   "id": "045e0894-7e15-45a9-8562-75136834bc3e",
   "metadata": {},
   "outputs": [
    {
     "name": "stdout",
     "output_type": "stream",
     "text": [
      "Confusion Matrix for train data \n",
      " [[3116  316]\n",
      " [ 224 4081]]\n",
      "\n",
      "Classification Report for train data \n",
      "\n",
      "              precision    recall  f1-score   support\n",
      "\n",
      "          -1       0.93      0.91      0.92      3432\n",
      "           1       0.93      0.95      0.94      4305\n",
      "\n",
      "    accuracy                           0.93      7737\n",
      "   macro avg       0.93      0.93      0.93      7737\n",
      "weighted avg       0.93      0.93      0.93      7737\n",
      "\n",
      "Confusion Matrix for test data \n",
      " [[1333  132]\n",
      " [ 108 1744]]\n",
      "\n",
      "Classification Report for test data \n",
      "\n",
      "              precision    recall  f1-score   support\n",
      "\n",
      "          -1       0.93      0.91      0.92      1465\n",
      "           1       0.93      0.94      0.94      1852\n",
      "\n",
      "    accuracy                           0.93      3317\n",
      "   macro avg       0.93      0.93      0.93      3317\n",
      "weighted avg       0.93      0.93      0.93      3317\n",
      "\n"
     ]
    }
   ],
   "source": [
    "from sklearn.metrics import confusion_matrix\n",
    "from sklearn.metrics import classification_report\n",
    "\n",
    "print(\"Confusion Matrix for train data \\n\", confusion_matrix(y_train, prediction_train))\n",
    "\n",
    "print(\"\\nClassification Report for train data \\n\")\n",
    "\n",
    "print(classification_report(y_train, prediction_train))\n",
    "\n",
    "prediction_test = log_reg.predict(X_test)\n",
    "prediction_test\n",
    "print(\"Confusion Matrix for test data \\n\", confusion_matrix(y_test, prediction_test))\n",
    "\n",
    "print(\"\\nClassification Report for test data \\n\")\n",
    "\n",
    "print(classification_report(y_test, prediction_test))"
   ]
  },
  {
   "cell_type": "markdown",
   "id": "eecbee75-5711-4782-a8b5-c9cbfaac86b6",
   "metadata": {},
   "source": [
    "### In another attempt the C parameter is changed to 25 to check if there is any change in the accuracy. But no change was observed"
   ]
  },
  {
   "cell_type": "code",
   "execution_count": 20,
   "id": "f61c44ea-3d29-4b2b-929f-143723077114",
   "metadata": {},
   "outputs": [
    {
     "name": "stdout",
     "output_type": "stream",
     "text": [
      "Confusion Matrix for train data \n",
      " [[3116  316]\n",
      " [ 224 4081]]\n",
      "\n",
      "Classification Report for train data \n",
      "\n",
      "              precision    recall  f1-score   support\n",
      "\n",
      "          -1       0.93      0.91      0.92      3432\n",
      "           1       0.93      0.95      0.94      4305\n",
      "\n",
      "    accuracy                           0.93      7737\n",
      "   macro avg       0.93      0.93      0.93      7737\n",
      "weighted avg       0.93      0.93      0.93      7737\n",
      "\n",
      "Confusion Matrix for test data \n",
      " [[1333  132]\n",
      " [ 108 1744]]\n",
      "\n",
      "Classification Report for test data \n",
      "\n",
      "              precision    recall  f1-score   support\n",
      "\n",
      "          -1       0.93      0.91      0.92      1465\n",
      "           1       0.93      0.94      0.94      1852\n",
      "\n",
      "    accuracy                           0.93      3317\n",
      "   macro avg       0.93      0.93      0.93      3317\n",
      "weighted avg       0.93      0.93      0.93      3317\n",
      "\n"
     ]
    }
   ],
   "source": [
    "from sklearn.linear_model import LogisticRegression\n",
    "log_reg=LogisticRegression(C=25)\n",
    "log_reg.fit(X_train,y_train)\n",
    "\n",
    "prediction_train=log_reg.predict(X_train)\n",
    "\n",
    "from sklearn.metrics import confusion_matrix\n",
    "from sklearn.metrics import classification_report\n",
    "\n",
    "print(\"Confusion Matrix for train data \\n\", confusion_matrix(y_train, prediction_train))\n",
    "\n",
    "print(\"\\nClassification Report for train data \\n\")\n",
    "\n",
    "print(classification_report(y_train, prediction_train))\n",
    "\n",
    "prediction_test = log_reg.predict(X_test)\n",
    "prediction_test\n",
    "print(\"Confusion Matrix for test data \\n\", confusion_matrix(y_test, prediction_test))\n",
    "\n",
    "print(\"\\nClassification Report for test data \\n\")\n",
    "\n",
    "print(classification_report(y_test, prediction_test))"
   ]
  },
  {
   "cell_type": "markdown",
   "id": "6bc84933-d18a-427e-a558-9174260b13c1",
   "metadata": {},
   "source": [
    "# Do the clasification based on just two features"
   ]
  },
  {
   "cell_type": "markdown",
   "id": "ba73e379-62e1-4c4b-8e3b-7acbe267d984",
   "metadata": {},
   "source": [
    "### Two features namely PreficSuffix and AnchorURL is used to classify the data"
   ]
  },
  {
   "cell_type": "code",
   "execution_count": 21,
   "id": "b78428fc-ab79-4386-bba8-ad6bc2561e1a",
   "metadata": {},
   "outputs": [
    {
     "data": {
      "text/html": [
       "<div>\n",
       "<style scoped>\n",
       "    .dataframe tbody tr th:only-of-type {\n",
       "        vertical-align: middle;\n",
       "    }\n",
       "\n",
       "    .dataframe tbody tr th {\n",
       "        vertical-align: top;\n",
       "    }\n",
       "\n",
       "    .dataframe thead th {\n",
       "        text-align: right;\n",
       "    }\n",
       "</style>\n",
       "<table border=\"1\" class=\"dataframe\">\n",
       "  <thead>\n",
       "    <tr style=\"text-align: right;\">\n",
       "      <th></th>\n",
       "      <th>PrefixSuffix-</th>\n",
       "      <th>AnchorURL</th>\n",
       "    </tr>\n",
       "  </thead>\n",
       "  <tbody>\n",
       "    <tr>\n",
       "      <th>0</th>\n",
       "      <td>-1</td>\n",
       "      <td>0</td>\n",
       "    </tr>\n",
       "    <tr>\n",
       "      <th>1</th>\n",
       "      <td>-1</td>\n",
       "      <td>0</td>\n",
       "    </tr>\n",
       "    <tr>\n",
       "      <th>2</th>\n",
       "      <td>-1</td>\n",
       "      <td>0</td>\n",
       "    </tr>\n",
       "    <tr>\n",
       "      <th>3</th>\n",
       "      <td>-1</td>\n",
       "      <td>0</td>\n",
       "    </tr>\n",
       "    <tr>\n",
       "      <th>4</th>\n",
       "      <td>-1</td>\n",
       "      <td>0</td>\n",
       "    </tr>\n",
       "  </tbody>\n",
       "</table>\n",
       "</div>"
      ],
      "text/plain": [
       "   PrefixSuffix-  AnchorURL\n",
       "0             -1          0\n",
       "1             -1          0\n",
       "2             -1          0\n",
       "3             -1          0\n",
       "4             -1          0"
      ]
     },
     "execution_count": 21,
     "metadata": {},
     "output_type": "execute_result"
    }
   ],
   "source": [
    "X=data[['PrefixSuffix-','AnchorURL']]\n",
    "y=data.iloc[:,-1]\n",
    "X.head()"
   ]
  },
  {
   "cell_type": "markdown",
   "id": "5201d60b-9667-4ec4-9be2-d2630463b815",
   "metadata": {},
   "source": [
    "### X data is chosen to have just the two parameters specified"
   ]
  },
  {
   "cell_type": "code",
   "execution_count": 24,
   "id": "c6c6a35b-e881-4c81-8796-2e2ea51b382c",
   "metadata": {},
   "outputs": [],
   "source": [
    "from sklearn.model_selection import train_test_split\n",
    "X_train, X_test, y_train, y_test = train_test_split(X, y, train_size=0.7, random_state= 123)"
   ]
  },
  {
   "cell_type": "code",
   "execution_count": 25,
   "id": "ed0634dc-012b-4ed0-bb23-f964b8475999",
   "metadata": {},
   "outputs": [],
   "source": [
    "from sklearn.linear_model import LogisticRegression\n",
    "log_reg=LogisticRegression(C=25)\n",
    "log_reg.fit(X_train,y_train)\n",
    "prediction_train=log_reg.predict(X_train)"
   ]
  },
  {
   "cell_type": "code",
   "execution_count": 26,
   "id": "f2d4d78b-4289-4059-90d6-e3eac0b97163",
   "metadata": {},
   "outputs": [
    {
     "name": "stdout",
     "output_type": "stream",
     "text": [
      "Confusion Matrix for train data \n",
      " [[2293 1139]\n",
      " [  12 4293]]\n",
      "\n",
      "Classification Report for train data \n",
      "\n",
      "              precision    recall  f1-score   support\n",
      "\n",
      "          -1       0.99      0.67      0.80      3432\n",
      "           1       0.79      1.00      0.88      4305\n",
      "\n",
      "    accuracy                           0.85      7737\n",
      "   macro avg       0.89      0.83      0.84      7737\n",
      "weighted avg       0.88      0.85      0.85      7737\n",
      "\n",
      "Confusion Matrix for test data \n",
      " [[ 952  513]\n",
      " [   6 1846]]\n",
      "\n",
      "Classification Report for test data \n",
      "\n",
      "              precision    recall  f1-score   support\n",
      "\n",
      "          -1       0.99      0.65      0.79      1465\n",
      "           1       0.78      1.00      0.88      1852\n",
      "\n",
      "    accuracy                           0.84      3317\n",
      "   macro avg       0.89      0.82      0.83      3317\n",
      "weighted avg       0.88      0.84      0.84      3317\n",
      "\n"
     ]
    }
   ],
   "source": [
    "from sklearn.metrics import confusion_matrix\n",
    "from sklearn.metrics import classification_report\n",
    "\n",
    "print(\"Confusion Matrix for train data \\n\", confusion_matrix(y_train, prediction_train))\n",
    "\n",
    "print(\"\\nClassification Report for train data \\n\")\n",
    "\n",
    "print(classification_report(y_train, prediction_train))\n",
    "\n",
    "prediction_test = log_reg.predict(X_test)\n",
    "prediction_test\n",
    "print(\"Confusion Matrix for test data \\n\", confusion_matrix(y_test, prediction_test))\n",
    "\n",
    "print(\"\\nClassification Report for test data \\n\")\n",
    "\n",
    "print(classification_report(y_test, prediction_test))"
   ]
  },
  {
   "cell_type": "markdown",
   "id": "e8bda9c8-4fab-483e-97d0-faff9a46a537",
   "metadata": {},
   "source": [
    "### Choosing just two parameters reduced the accuracy of the model from 93% to 84%"
   ]
  },
  {
   "cell_type": "markdown",
   "id": "899e3014-9a21-48d1-a2f7-61a3cc4a10f3",
   "metadata": {},
   "source": [
    "# RANDOM FOREST CLASSIFIER"
   ]
  },
  {
   "cell_type": "markdown",
   "id": "e5a4e519-8ec0-4515-ab5b-a273e2af3eb4",
   "metadata": {},
   "source": [
    "### Apart from logistic regression, Random forest classifier is also used for this binary classification"
   ]
  },
  {
   "cell_type": "code",
   "execution_count": 38,
   "id": "b0a30147-f72e-497f-bcc2-11f6fc203f87",
   "metadata": {},
   "outputs": [],
   "source": [
    "X=data.iloc[:,0:-2]\n",
    "y=data.iloc[:,-1]\n"
   ]
  },
  {
   "cell_type": "markdown",
   "id": "4bf5a7c6-66c7-4bd3-be62-cbe82aa62a23",
   "metadata": {},
   "source": [
    "### Again full set of data is considered and split into 70% train and 30% test"
   ]
  },
  {
   "cell_type": "code",
   "execution_count": 52,
   "id": "527df729-0860-4487-9930-8164a0f6b5df",
   "metadata": {},
   "outputs": [],
   "source": [
    "from sklearn.model_selection import train_test_split\n",
    "X_train, X_test, y_train, y_test = train_test_split(X, y, train_size=0.7, random_state= 123)"
   ]
  },
  {
   "cell_type": "markdown",
   "id": "66ea2a0e-8238-464e-91bc-2eb8aae35f22",
   "metadata": {},
   "source": [
    "### Random forest classifer is first randomly tried out wihtmax depth of 30. "
   ]
  },
  {
   "cell_type": "code",
   "execution_count": 54,
   "id": "5af9081c-3bca-402d-b822-cbe4adc0df92",
   "metadata": {},
   "outputs": [
    {
     "name": "stdout",
     "output_type": "stream",
     "text": [
      "Confusion Matrix for train data \n",
      " [[3386   46]\n",
      " [  30 4275]]\n",
      "\n",
      "Classification Report for train data \n",
      "\n",
      "              precision    recall  f1-score   support\n",
      "\n",
      "          -1       0.99      0.99      0.99      3432\n",
      "           1       0.99      0.99      0.99      4305\n",
      "\n",
      "    accuracy                           0.99      7737\n",
      "   macro avg       0.99      0.99      0.99      7737\n",
      "weighted avg       0.99      0.99      0.99      7737\n",
      "\n",
      "Confusion Matrix for test data \n",
      " [[1407   58]\n",
      " [  33 1819]]\n",
      "\n",
      "Classification Report for test data \n",
      "\n",
      "              precision    recall  f1-score   support\n",
      "\n",
      "          -1       0.98      0.96      0.97      1465\n",
      "           1       0.97      0.98      0.98      1852\n",
      "\n",
      "    accuracy                           0.97      3317\n",
      "   macro avg       0.97      0.97      0.97      3317\n",
      "weighted avg       0.97      0.97      0.97      3317\n",
      "\n"
     ]
    }
   ],
   "source": [
    "from sklearn.ensemble import RandomForestClassifier\n",
    "\n",
    "rf=RandomForestClassifier(max_depth=30, n_estimators=50)\n",
    "\n",
    "rf.fit(X_train, y_train)\n",
    "prediction_train = rf.predict(X_train)\n",
    "print(\"Confusion Matrix for train data \\n\", confusion_matrix(y_train, prediction_train))\n",
    "\n",
    "print(\"\\nClassification Report for train data \\n\")\n",
    "\n",
    "print(classification_report(y_train, prediction_train))\n",
    "prediction_test = rf.predict(X_test)\n",
    "prediction_test\n",
    "print(\"Confusion Matrix for test data \\n\", confusion_matrix(y_test, prediction_test))\n",
    "\n",
    "print(\"\\nClassification Report for test data \\n\")\n",
    "\n",
    "print(classification_report(y_test, prediction_test))"
   ]
  },
  {
   "cell_type": "markdown",
   "id": "8b447ef7-b3bb-4771-9ff5-e6f1241c6340",
   "metadata": {},
   "source": [
    "### The accuracy of the model is pretty good with 99% for train data. Test accuracy is 97% which is slightly less than the train accuracy"
   ]
  },
  {
   "cell_type": "code",
   "execution_count": 55,
   "id": "a8a6f32b-89c8-43d7-8877-d27d0322d563",
   "metadata": {},
   "outputs": [
    {
     "data": {
      "image/png": "[encoded data removed]",
      "text/plain": [
       "<Figure size 864x576 with 1 Axes>"
      ]
     },
     "metadata": {
      "needs_background": "light"
     },
     "output_type": "display_data"
    }
   ],
   "source": [
    "from scipy.cluster.hierarchy import dendrogram, linkage\n",
    "import scipy.cluster.hierarchy as shc\n",
    "\n",
    "data2=data.iloc[:,2:4]\n",
    "plt.figure (figsize=(12,8))\n",
    "plt.title('Customer Dendogram')\n",
    "shc.dendrogram (shc.linkage(data, method = 'ward'));"
   ]
  },
  {
   "cell_type": "markdown",
   "id": "d3bc076f-0b19-4890-a776-2e8d2c254247",
   "metadata": {},
   "source": [
    "### A Dendogram showing the full tree is plotted to show the complexity of the data"
   ]
  },
  {
   "cell_type": "markdown",
   "id": "e4d14a8c-a476-4603-9197-5c9fad0d84f2",
   "metadata": {},
   "source": [
    "### In this section the max_depth parameter is optimised. For this the random forest classification is run for variaous number of depths frmo 1-30 and accuracy of the model is calculated for each case."
   ]
  },
  {
   "cell_type": "code",
   "execution_count": 56,
   "id": "b4704493-20ef-4245-ae8e-5520d5fb802e",
   "metadata": {},
   "outputs": [],
   "source": [
    "from sklearn.ensemble import RandomForestClassifier \n",
    "accuracy = []\n",
    "for i in range(1,31):\n",
    "     rf = RandomForestClassifier(max_depth=i, n_estimators=50)\n",
    "     rf.fit(X_train, y_train)\n",
    "     prediction_test = rf.predict(X_test)\n",
    "     d=confusion_matrix(y_test, prediction_test)\n",
    "     accuracy.append((d[0,0]+d[1,1])/d.sum())\n",
    "\n"
   ]
  },
  {
   "cell_type": "code",
   "execution_count": 57,
   "id": "28b445b0-003f-493c-a345-10ab62ff3a21",
   "metadata": {},
   "outputs": [],
   "source": [
    "n=list(range(1,31))"
   ]
  },
  {
   "cell_type": "markdown",
   "id": "a97ef949-db66-46b2-9efe-2a66264fe12d",
   "metadata": {},
   "source": [
    "### A plot between the max_depths and the accuracy of the test data shows that accuracy plateaus around 97%. The lease number of depths to achieve this accuracy is around 15. So next the same classifier is used with max_depth as 15"
   ]
  },
  {
   "cell_type": "code",
   "execution_count": 59,
   "id": "8fd72e81-a47d-48a3-b39f-2840bae17418",
   "metadata": {},
   "outputs": [
    {
     "data": {
      "text/plain": [
       "[<matplotlib.lines.Line2D at 0x7f7f4eef05e0>]"
      ]
     },
     "execution_count": 59,
     "metadata": {},
     "output_type": "execute_result"
    },
    {
     "data": {
      "image/png": "[encoded data removed]",
      "text/plain": [
       "<Figure size 576x576 with 1 Axes>"
      ]
     },
     "metadata": {
      "needs_background": "light"
     },
     "output_type": "display_data"
    }
   ],
   "source": [
    "plt.figure(figsize=(8,8))\n",
    "plt.xlabel('max_depth number', fontsize=20)\n",
    "plt.xticks(fontsize=20)\n",
    "plt.ylabel('Accuracy',fontsize=20)\n",
    "plt.yticks(fontsize=20)\n",
    "plt.plot(n,accuracy,'r',linewidth=3)\n"
   ]
  },
  {
   "cell_type": "code",
   "execution_count": 60,
   "id": "8f46bb2a-6738-4be8-90b5-accf2686f577",
   "metadata": {},
   "outputs": [
    {
     "name": "stdout",
     "output_type": "stream",
     "text": [
      "Confusion Matrix for train data \n",
      " [[3353   79]\n",
      " [  45 4260]]\n",
      "\n",
      "Classification Report for train data \n",
      "\n",
      "              precision    recall  f1-score   support\n",
      "\n",
      "          -1       0.99      0.98      0.98      3432\n",
      "           1       0.98      0.99      0.99      4305\n",
      "\n",
      "    accuracy                           0.98      7737\n",
      "   macro avg       0.98      0.98      0.98      7737\n",
      "weighted avg       0.98      0.98      0.98      7737\n",
      "\n",
      "Confusion Matrix for test data \n",
      " [[1400   65]\n",
      " [  45 1807]]\n",
      "\n",
      "Classification Report for test data \n",
      "\n",
      "              precision    recall  f1-score   support\n",
      "\n",
      "          -1       0.97      0.96      0.96      1465\n",
      "           1       0.97      0.98      0.97      1852\n",
      "\n",
      "    accuracy                           0.97      3317\n",
      "   macro avg       0.97      0.97      0.97      3317\n",
      "weighted avg       0.97      0.97      0.97      3317\n",
      "\n"
     ]
    }
   ],
   "source": [
    "from sklearn.ensemble import RandomForestClassifier\n",
    "rf=RandomForestClassifier(max_depth=15, n_estimators=50)\n",
    "\n",
    "#max_depth=2/3/4/5 n_estimators=50/100/150/200 criterion=entropy/gini\n",
    "rf.fit(X_train, y_train)\n",
    "prediction_train = rf.predict(X_train)\n",
    "print(\"Confusion Matrix for train data \\n\", confusion_matrix(y_train, prediction_train))\n",
    "\n",
    "print(\"\\nClassification Report for train data \\n\")\n",
    "\n",
    "print(classification_report(y_train, prediction_train))\n",
    "prediction_test = rf.predict(X_test)\n",
    "prediction_test\n",
    "print(\"Confusion Matrix for test data \\n\", confusion_matrix(y_test, prediction_test))\n",
    "\n",
    "print(\"\\nClassification Report for test data \\n\")\n",
    "\n",
    "print(classification_report(y_test, prediction_test))"
   ]
  },
  {
   "cell_type": "markdown",
   "id": "6e1273c9-e661-4e59-a240-7e023e6df422",
   "metadata": {},
   "source": [
    "### As expected the accuracy of the test data is 97% and the train is also 98% not very differnt from test data. This final model is a better ML  model to classify the given data."
   ]
  },
  {
   "cell_type": "code",
   "execution_count": null,
   "id": "f4c36c55-504c-4ac2-8a3f-f9d248f10af5",
   "metadata": {},
   "outputs": [],
   "source": []
  }
 ],
 "metadata": {
  "kernelspec": {
   "display_name": "Python 3 [3.10]",
   "language": "python",
   "name": "python3"
  },
  "language_info": {
   "codemirror_mode": {
    "name": "ipython",
    "version": 3
   },
   "file_extension": ".py",
   "mimetype": "text/x-python",
   "name": "python",
   "nbconvert_exporter": "python",
   "pygments_lexer": "ipython3",
   "version": "3.10.2"
  }
 },
 "nbformat": 4,
 "nbformat_minor": 5
}
