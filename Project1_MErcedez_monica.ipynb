{
 "cells": [
  {
   "cell_type": "markdown",
   "id": "3f0c0e57-3022-452a-820a-87f5fffe61d4",
   "metadata": {},
   "source": [
    "# Project 1 Mercedez - Submitted by Monica"
   ]
  },
  {
   "cell_type": "markdown",
   "id": "42df3354-bc18-4197-a9f1-874a643065ce",
   "metadata": {},
   "source": [
    "### Load necessary modules"
   ]
  },
  {
   "cell_type": "code",
   "execution_count": 94,
   "id": "e5371537-b76a-45f6-84a0-fec8a13fa3b9",
   "metadata": {},
   "outputs": [],
   "source": [
    "import pandas as pd\n",
    "import numpy as np\n",
    "import math\n",
    "import matplotlib.pyplot as plt\n",
    "import seaborn as sns\n",
    "from scipy import stats\n",
    "pd.options.display.max_rows = 400"
   ]
  },
  {
   "cell_type": "markdown",
   "id": "053d3c3c-803e-49e7-995b-7955cfd7a528",
   "metadata": {},
   "source": [
    "### Read the input file"
   ]
  },
  {
   "cell_type": "code",
   "execution_count": 71,
   "id": "19c2f406-cc98-438c-8774-f429b8528191",
   "metadata": {},
   "outputs": [],
   "source": [
    "data=pd.read_csv('train.csv')"
   ]
  },
  {
   "cell_type": "code",
   "execution_count": 53,
   "id": "e0501e86-dc99-4b31-98b6-8cdcaa4a683d",
   "metadata": {},
   "outputs": [
    {
     "data": {
      "text/plain": [
       "(4209, 378)"
      ]
     },
     "execution_count": 53,
     "metadata": {},
     "output_type": "execute_result"
    }
   ],
   "source": [
    "data.shape"
   ]
  },
  {
   "cell_type": "markdown",
   "id": "6dd16327-6a8b-4c79-abd6-dafe8b22e1b4",
   "metadata": {},
   "source": [
    "### The shape of the input is 4209 (rows) and 378 (variables)"
   ]
  },
  {
   "cell_type": "code",
   "execution_count": 54,
   "id": "5134b073-7c47-47c9-b58c-b2a066307dd9",
   "metadata": {},
   "outputs": [
    {
     "data": {
      "text/plain": [
       "Index(['ID', 'y', 'X0', 'X1', 'X2', 'X3', 'X4', 'X5', 'X6', 'X8',\n",
       "       ...\n",
       "       'X375', 'X376', 'X377', 'X378', 'X379', 'X380', 'X382', 'X383', 'X384',\n",
       "       'X385'],\n",
       "      dtype='object', length=378)"
      ]
     },
     "execution_count": 54,
     "metadata": {},
     "output_type": "execute_result"
    }
   ],
   "source": [
    "#get the column ids\n",
    "data.columns"
   ]
  },
  {
   "cell_type": "code",
   "execution_count": 95,
   "id": "4346a6cc-a1ee-4818-bda8-36d1b5bdd2f7",
   "metadata": {},
   "outputs": [
    {
     "data": {
      "text/plain": [
       "ID      0\n",
       "y       0\n",
       "X0      0\n",
       "X1      0\n",
       "X2      0\n",
       "X3      0\n",
       "X4      0\n",
       "X5      0\n",
       "X6      0\n",
       "X8      0\n",
       "X10     0\n",
       "X11     0\n",
       "X12     0\n",
       "X13     0\n",
       "X14     0\n",
       "X15     0\n",
       "X16     0\n",
       "X17     0\n",
       "X18     0\n",
       "X19     0\n",
       "X20     0\n",
       "X21     0\n",
       "X22     0\n",
       "X23     0\n",
       "X24     0\n",
       "X26     0\n",
       "X27     0\n",
       "X28     0\n",
       "X29     0\n",
       "X30     0\n",
       "X31     0\n",
       "X32     0\n",
       "X33     0\n",
       "X34     0\n",
       "X35     0\n",
       "X36     0\n",
       "X37     0\n",
       "X38     0\n",
       "X39     0\n",
       "X40     0\n",
       "X41     0\n",
       "X42     0\n",
       "X43     0\n",
       "X44     0\n",
       "X45     0\n",
       "X46     0\n",
       "X47     0\n",
       "X48     0\n",
       "X49     0\n",
       "X50     0\n",
       "X51     0\n",
       "X52     0\n",
       "X53     0\n",
       "X54     0\n",
       "X55     0\n",
       "X56     0\n",
       "X57     0\n",
       "X58     0\n",
       "X59     0\n",
       "X60     0\n",
       "X61     0\n",
       "X62     0\n",
       "X63     0\n",
       "X64     0\n",
       "X65     0\n",
       "X66     0\n",
       "X67     0\n",
       "X68     0\n",
       "X69     0\n",
       "X70     0\n",
       "X71     0\n",
       "X73     0\n",
       "X74     0\n",
       "X75     0\n",
       "X76     0\n",
       "X77     0\n",
       "X78     0\n",
       "X79     0\n",
       "X80     0\n",
       "X81     0\n",
       "X82     0\n",
       "X83     0\n",
       "X84     0\n",
       "X85     0\n",
       "X86     0\n",
       "X87     0\n",
       "X88     0\n",
       "X89     0\n",
       "X90     0\n",
       "X91     0\n",
       "X92     0\n",
       "X93     0\n",
       "X94     0\n",
       "X95     0\n",
       "X96     0\n",
       "X97     0\n",
       "X98     0\n",
       "X99     0\n",
       "X100    0\n",
       "X101    0\n",
       "X102    0\n",
       "X103    0\n",
       "X104    0\n",
       "X105    0\n",
       "X106    0\n",
       "X107    0\n",
       "X108    0\n",
       "X109    0\n",
       "X110    0\n",
       "X111    0\n",
       "X112    0\n",
       "X113    0\n",
       "X114    0\n",
       "X115    0\n",
       "X116    0\n",
       "X117    0\n",
       "X118    0\n",
       "X119    0\n",
       "X120    0\n",
       "X122    0\n",
       "X123    0\n",
       "X124    0\n",
       "X125    0\n",
       "X126    0\n",
       "X127    0\n",
       "X128    0\n",
       "X129    0\n",
       "X130    0\n",
       "X131    0\n",
       "X132    0\n",
       "X133    0\n",
       "X134    0\n",
       "X135    0\n",
       "X136    0\n",
       "X137    0\n",
       "X138    0\n",
       "X139    0\n",
       "X140    0\n",
       "X141    0\n",
       "X142    0\n",
       "X143    0\n",
       "X144    0\n",
       "X145    0\n",
       "X146    0\n",
       "X147    0\n",
       "X148    0\n",
       "X150    0\n",
       "X151    0\n",
       "X152    0\n",
       "X153    0\n",
       "X154    0\n",
       "X155    0\n",
       "X156    0\n",
       "X157    0\n",
       "X158    0\n",
       "X159    0\n",
       "X160    0\n",
       "X161    0\n",
       "X162    0\n",
       "X163    0\n",
       "X164    0\n",
       "X165    0\n",
       "X166    0\n",
       "X167    0\n",
       "X168    0\n",
       "X169    0\n",
       "X170    0\n",
       "X171    0\n",
       "X172    0\n",
       "X173    0\n",
       "X174    0\n",
       "X175    0\n",
       "X176    0\n",
       "X177    0\n",
       "X178    0\n",
       "X179    0\n",
       "X180    0\n",
       "X181    0\n",
       "X182    0\n",
       "X183    0\n",
       "X184    0\n",
       "X185    0\n",
       "X186    0\n",
       "X187    0\n",
       "X189    0\n",
       "X190    0\n",
       "X191    0\n",
       "X192    0\n",
       "X194    0\n",
       "X195    0\n",
       "X196    0\n",
       "X197    0\n",
       "X198    0\n",
       "X199    0\n",
       "X200    0\n",
       "X201    0\n",
       "X202    0\n",
       "X203    0\n",
       "X204    0\n",
       "X205    0\n",
       "X206    0\n",
       "X207    0\n",
       "X208    0\n",
       "X209    0\n",
       "X210    0\n",
       "X211    0\n",
       "X212    0\n",
       "X213    0\n",
       "X214    0\n",
       "X215    0\n",
       "X216    0\n",
       "X217    0\n",
       "X218    0\n",
       "X219    0\n",
       "X220    0\n",
       "X221    0\n",
       "X222    0\n",
       "X223    0\n",
       "X224    0\n",
       "X225    0\n",
       "X226    0\n",
       "X227    0\n",
       "X228    0\n",
       "X229    0\n",
       "X230    0\n",
       "X231    0\n",
       "X232    0\n",
       "X233    0\n",
       "X234    0\n",
       "X235    0\n",
       "X236    0\n",
       "X237    0\n",
       "X238    0\n",
       "X239    0\n",
       "X240    0\n",
       "X241    0\n",
       "X242    0\n",
       "X243    0\n",
       "X244    0\n",
       "X245    0\n",
       "X246    0\n",
       "X247    0\n",
       "X248    0\n",
       "X249    0\n",
       "X250    0\n",
       "X251    0\n",
       "X252    0\n",
       "X253    0\n",
       "X254    0\n",
       "X255    0\n",
       "X256    0\n",
       "X257    0\n",
       "X258    0\n",
       "X259    0\n",
       "X260    0\n",
       "X261    0\n",
       "X262    0\n",
       "X263    0\n",
       "X264    0\n",
       "X265    0\n",
       "X266    0\n",
       "X267    0\n",
       "X268    0\n",
       "X269    0\n",
       "X270    0\n",
       "X271    0\n",
       "X272    0\n",
       "X273    0\n",
       "X274    0\n",
       "X275    0\n",
       "X276    0\n",
       "X277    0\n",
       "X278    0\n",
       "X279    0\n",
       "X280    0\n",
       "X281    0\n",
       "X282    0\n",
       "X283    0\n",
       "X284    0\n",
       "X285    0\n",
       "X286    0\n",
       "X287    0\n",
       "X288    0\n",
       "X289    0\n",
       "X290    0\n",
       "X291    0\n",
       "X292    0\n",
       "X293    0\n",
       "X294    0\n",
       "X295    0\n",
       "X296    0\n",
       "X297    0\n",
       "X298    0\n",
       "X299    0\n",
       "X300    0\n",
       "X301    0\n",
       "X302    0\n",
       "X304    0\n",
       "X305    0\n",
       "X306    0\n",
       "X307    0\n",
       "X308    0\n",
       "X309    0\n",
       "X310    0\n",
       "X311    0\n",
       "X312    0\n",
       "X313    0\n",
       "X314    0\n",
       "X315    0\n",
       "X316    0\n",
       "X317    0\n",
       "X318    0\n",
       "X319    0\n",
       "X320    0\n",
       "X321    0\n",
       "X322    0\n",
       "X323    0\n",
       "X324    0\n",
       "X325    0\n",
       "X326    0\n",
       "X327    0\n",
       "X328    0\n",
       "X329    0\n",
       "X330    0\n",
       "X331    0\n",
       "X332    0\n",
       "X333    0\n",
       "X334    0\n",
       "X335    0\n",
       "X336    0\n",
       "X337    0\n",
       "X338    0\n",
       "X339    0\n",
       "X340    0\n",
       "X341    0\n",
       "X342    0\n",
       "X343    0\n",
       "X344    0\n",
       "X345    0\n",
       "X346    0\n",
       "X347    0\n",
       "X348    0\n",
       "X349    0\n",
       "X350    0\n",
       "X351    0\n",
       "X352    0\n",
       "X353    0\n",
       "X354    0\n",
       "X355    0\n",
       "X356    0\n",
       "X357    0\n",
       "X358    0\n",
       "X359    0\n",
       "X360    0\n",
       "X361    0\n",
       "X362    0\n",
       "X363    0\n",
       "X364    0\n",
       "X365    0\n",
       "X366    0\n",
       "X367    0\n",
       "X368    0\n",
       "X369    0\n",
       "X370    0\n",
       "X371    0\n",
       "X372    0\n",
       "X373    0\n",
       "X374    0\n",
       "X375    0\n",
       "X376    0\n",
       "X377    0\n",
       "X378    0\n",
       "X379    0\n",
       "X380    0\n",
       "X382    0\n",
       "X383    0\n",
       "X384    0\n",
       "X385    0\n",
       "dtype: int64"
      ]
     },
     "execution_count": 95,
     "metadata": {},
     "output_type": "execute_result"
    }
   ],
   "source": [
    "#check if there is any NA values\n",
    "data.isna().sum()"
   ]
  },
  {
   "cell_type": "markdown",
   "id": "dc8ef927-56c7-4b48-8db1-d7de3495cbeb",
   "metadata": {},
   "source": [
    "### No missing values in the data isna returns false for all the columns"
   ]
  },
  {
   "cell_type": "code",
   "execution_count": 6,
   "id": "082df9bf-5ee7-4d9d-9805-ee40f59b54f2",
   "metadata": {},
   "outputs": [
    {
     "data": {
      "text/html": [
       "<div>\n",
       "<style scoped>\n",
       "    .dataframe tbody tr th:only-of-type {\n",
       "        vertical-align: middle;\n",
       "    }\n",
       "\n",
       "    .dataframe tbody tr th {\n",
       "        vertical-align: top;\n",
       "    }\n",
       "\n",
       "    .dataframe thead th {\n",
       "        text-align: right;\n",
       "    }\n",
       "</style>\n",
       "<table border=\"1\" class=\"dataframe\">\n",
       "  <thead>\n",
       "    <tr style=\"text-align: right;\">\n",
       "      <th></th>\n",
       "      <th>ID</th>\n",
       "      <th>y</th>\n",
       "      <th>X0</th>\n",
       "      <th>X1</th>\n",
       "      <th>X2</th>\n",
       "      <th>X3</th>\n",
       "      <th>X4</th>\n",
       "      <th>X5</th>\n",
       "      <th>X6</th>\n",
       "      <th>X8</th>\n",
       "      <th>...</th>\n",
       "      <th>X375</th>\n",
       "      <th>X376</th>\n",
       "      <th>X377</th>\n",
       "      <th>X378</th>\n",
       "      <th>X379</th>\n",
       "      <th>X380</th>\n",
       "      <th>X382</th>\n",
       "      <th>X383</th>\n",
       "      <th>X384</th>\n",
       "      <th>X385</th>\n",
       "    </tr>\n",
       "  </thead>\n",
       "  <tbody>\n",
       "    <tr>\n",
       "      <th>0</th>\n",
       "      <td>0</td>\n",
       "      <td>130.81</td>\n",
       "      <td>k</td>\n",
       "      <td>v</td>\n",
       "      <td>at</td>\n",
       "      <td>a</td>\n",
       "      <td>d</td>\n",
       "      <td>u</td>\n",
       "      <td>j</td>\n",
       "      <td>o</td>\n",
       "      <td>...</td>\n",
       "      <td>0</td>\n",
       "      <td>0</td>\n",
       "      <td>1</td>\n",
       "      <td>0</td>\n",
       "      <td>0</td>\n",
       "      <td>0</td>\n",
       "      <td>0</td>\n",
       "      <td>0</td>\n",
       "      <td>0</td>\n",
       "      <td>0</td>\n",
       "    </tr>\n",
       "    <tr>\n",
       "      <th>1</th>\n",
       "      <td>6</td>\n",
       "      <td>88.53</td>\n",
       "      <td>k</td>\n",
       "      <td>t</td>\n",
       "      <td>av</td>\n",
       "      <td>e</td>\n",
       "      <td>d</td>\n",
       "      <td>y</td>\n",
       "      <td>l</td>\n",
       "      <td>o</td>\n",
       "      <td>...</td>\n",
       "      <td>1</td>\n",
       "      <td>0</td>\n",
       "      <td>0</td>\n",
       "      <td>0</td>\n",
       "      <td>0</td>\n",
       "      <td>0</td>\n",
       "      <td>0</td>\n",
       "      <td>0</td>\n",
       "      <td>0</td>\n",
       "      <td>0</td>\n",
       "    </tr>\n",
       "    <tr>\n",
       "      <th>2</th>\n",
       "      <td>7</td>\n",
       "      <td>76.26</td>\n",
       "      <td>az</td>\n",
       "      <td>w</td>\n",
       "      <td>n</td>\n",
       "      <td>c</td>\n",
       "      <td>d</td>\n",
       "      <td>x</td>\n",
       "      <td>j</td>\n",
       "      <td>x</td>\n",
       "      <td>...</td>\n",
       "      <td>0</td>\n",
       "      <td>0</td>\n",
       "      <td>0</td>\n",
       "      <td>0</td>\n",
       "      <td>0</td>\n",
       "      <td>0</td>\n",
       "      <td>1</td>\n",
       "      <td>0</td>\n",
       "      <td>0</td>\n",
       "      <td>0</td>\n",
       "    </tr>\n",
       "    <tr>\n",
       "      <th>3</th>\n",
       "      <td>9</td>\n",
       "      <td>80.62</td>\n",
       "      <td>az</td>\n",
       "      <td>t</td>\n",
       "      <td>n</td>\n",
       "      <td>f</td>\n",
       "      <td>d</td>\n",
       "      <td>x</td>\n",
       "      <td>l</td>\n",
       "      <td>e</td>\n",
       "      <td>...</td>\n",
       "      <td>0</td>\n",
       "      <td>0</td>\n",
       "      <td>0</td>\n",
       "      <td>0</td>\n",
       "      <td>0</td>\n",
       "      <td>0</td>\n",
       "      <td>0</td>\n",
       "      <td>0</td>\n",
       "      <td>0</td>\n",
       "      <td>0</td>\n",
       "    </tr>\n",
       "    <tr>\n",
       "      <th>4</th>\n",
       "      <td>13</td>\n",
       "      <td>78.02</td>\n",
       "      <td>az</td>\n",
       "      <td>v</td>\n",
       "      <td>n</td>\n",
       "      <td>f</td>\n",
       "      <td>d</td>\n",
       "      <td>h</td>\n",
       "      <td>d</td>\n",
       "      <td>n</td>\n",
       "      <td>...</td>\n",
       "      <td>0</td>\n",
       "      <td>0</td>\n",
       "      <td>0</td>\n",
       "      <td>0</td>\n",
       "      <td>0</td>\n",
       "      <td>0</td>\n",
       "      <td>0</td>\n",
       "      <td>0</td>\n",
       "      <td>0</td>\n",
       "      <td>0</td>\n",
       "    </tr>\n",
       "  </tbody>\n",
       "</table>\n",
       "<p>5 rows × 378 columns</p>\n",
       "</div>"
      ],
      "text/plain": [
       "   ID       y  X0 X1  X2 X3 X4 X5 X6 X8  ...  X375  X376  X377  X378  X379  \\\n",
       "0   0  130.81   k  v  at  a  d  u  j  o  ...     0     0     1     0     0   \n",
       "1   6   88.53   k  t  av  e  d  y  l  o  ...     1     0     0     0     0   \n",
       "2   7   76.26  az  w   n  c  d  x  j  x  ...     0     0     0     0     0   \n",
       "3   9   80.62  az  t   n  f  d  x  l  e  ...     0     0     0     0     0   \n",
       "4  13   78.02  az  v   n  f  d  h  d  n  ...     0     0     0     0     0   \n",
       "\n",
       "   X380  X382  X383  X384  X385  \n",
       "0     0     0     0     0     0  \n",
       "1     0     0     0     0     0  \n",
       "2     0     1     0     0     0  \n",
       "3     0     0     0     0     0  \n",
       "4     0     0     0     0     0  \n",
       "\n",
       "[5 rows x 378 columns]"
      ]
     },
     "execution_count": 6,
     "metadata": {},
     "output_type": "execute_result"
    }
   ],
   "source": [
    "data.head()"
   ]
  },
  {
   "cell_type": "markdown",
   "id": "1da249a6-7e29-4d63-8753-9547dd6cb846",
   "metadata": {},
   "source": [
    "### Comments\n",
    "The data is divided into X which consists of all variables and y the output time"
   ]
  },
  {
   "cell_type": "code",
   "execution_count": 72,
   "id": "52a33f16-7629-4683-815d-09685e606d8e",
   "metadata": {},
   "outputs": [
    {
     "data": {
      "text/plain": [
       "(4209, 376)"
      ]
     },
     "execution_count": 72,
     "metadata": {},
     "output_type": "execute_result"
    }
   ],
   "source": [
    "X=data.iloc[:,2:]\n",
    "y=data.iloc[:,1]\n",
    "y.head()\n",
    "X.shape"
   ]
  },
  {
   "cell_type": "markdown",
   "id": "c90a763a-8926-475e-974b-64836aafa965",
   "metadata": {},
   "source": [
    "### Comments\n",
    "Since the dependant parameter y is the time required to finish the car,  the categorical variables are removed"
   ]
  },
  {
   "cell_type": "code",
   "execution_count": 73,
   "id": "82ecc62e-ace1-43da-a95f-3fc310133b0e",
   "metadata": {},
   "outputs": [
    {
     "data": {
      "text/plain": [
       "Index(['X0', 'X1', 'X2', 'X3', 'X4', 'X5', 'X6', 'X8'], dtype='object')"
      ]
     },
     "execution_count": 73,
     "metadata": {},
     "output_type": "execute_result"
    }
   ],
   "source": [
    "#select categorical values\n",
    "X_categorical_features = X.select_dtypes(include='object')\n",
    "X_categorical_features.columns"
   ]
  },
  {
   "cell_type": "markdown",
   "id": "509aaf49-c5a0-4968-91ff-d17c991e3092",
   "metadata": {},
   "source": [
    "X0-X8 are the categorical variables"
   ]
  },
  {
   "cell_type": "code",
   "execution_count": 74,
   "id": "e8cb3c79-bf57-40a4-a68a-10324bac2e32",
   "metadata": {},
   "outputs": [],
   "source": [
    "X.drop(['X0', 'X1', 'X2', 'X3', 'X4', 'X5', 'X6', 'X8'], axis='columns', inplace=True)"
   ]
  },
  {
   "cell_type": "markdown",
   "id": "fd7103a6-42b6-48a7-a37f-c0282811e328",
   "metadata": {},
   "source": [
    "After dropping the categorocal variables the number of  columns/variables is 368"
   ]
  },
  {
   "cell_type": "code",
   "execution_count": 75,
   "id": "db833c41-8f44-499b-b70c-0c2ae48cba68",
   "metadata": {},
   "outputs": [
    {
     "data": {
      "text/plain": [
       "368"
      ]
     },
     "execution_count": 75,
     "metadata": {},
     "output_type": "execute_result"
    }
   ],
   "source": [
    "len(X.columns)"
   ]
  },
  {
   "cell_type": "code",
   "execution_count": 112,
   "id": "067faa90-e0eb-4e3c-9ede-988ff00e4d7e",
   "metadata": {},
   "outputs": [
    {
     "data": {
      "text/plain": [
       "False    356\n",
       "dtype: int64"
      ]
     },
     "execution_count": 112,
     "metadata": {},
     "output_type": "execute_result"
    }
   ],
   "source": [
    "#to check how many columns are there with zero variance\n",
    "(X.var()==0).value_counts()"
   ]
  },
  {
   "cell_type": "markdown",
   "id": "50f3a813-3a09-4b7d-bf34-4f331d2efcf4",
   "metadata": {},
   "source": [
    "### Comments\n",
    "Accessing the variance of the data set, it is found that 12 columns have zero values. i.e. 12 columns have constant numbers in them. Such variables do not give information about the dependant variable. Hence, it is removed."
   ]
  },
  {
   "cell_type": "code",
   "execution_count": 77,
   "id": "191e0dc2-bfb5-40fd-8590-2ff169e3ba1e",
   "metadata": {},
   "outputs": [],
   "source": [
    "X_temp=X.copy()"
   ]
  },
  {
   "cell_type": "code",
   "execution_count": 80,
   "id": "2f28746e-d196-42c4-a525-3ad734fa2ab8",
   "metadata": {},
   "outputs": [],
   "source": [
    "# to drop the columns with zero variance\n",
    "drop_col_name=[]\n",
    "for i in range (1,368): \n",
    "  \n",
    "    if (X_temp.iloc[:,i].var() == 0.0):\n",
    "        drop_col_name.append(X_temp.columns[i])\n",
    "        X.drop(columns = X_temp.columns[i], axis=1,  inplace=True)\n",
    "       \n"
   ]
  },
  {
   "cell_type": "code",
   "execution_count": 113,
   "id": "c3434701-ba56-4030-ad8a-cdb5517dfed8",
   "metadata": {},
   "outputs": [
    {
     "data": {
      "text/plain": [
       "['X11',\n",
       " 'X93',\n",
       " 'X107',\n",
       " 'X233',\n",
       " 'X235',\n",
       " 'X268',\n",
       " 'X289',\n",
       " 'X290',\n",
       " 'X293',\n",
       " 'X297',\n",
       " 'X330',\n",
       " 'X347']"
      ]
     },
     "execution_count": 113,
     "metadata": {},
     "output_type": "execute_result"
    }
   ],
   "source": [
    "#drop_col_name gives the name of the columns that are dropped with zero variance. It is recorded because the same columns are dropped in test data for consistency\n",
    "drop_col_name"
   ]
  },
  {
   "cell_type": "code",
   "execution_count": 62,
   "id": "265c2242-9acf-4deb-a396-b026f94132cd",
   "metadata": {},
   "outputs": [
    {
     "data": {
      "text/plain": [
       "(4209, 356)"
      ]
     },
     "execution_count": 62,
     "metadata": {},
     "output_type": "execute_result"
    }
   ],
   "source": [
    "X.shape"
   ]
  },
  {
   "cell_type": "markdown",
   "id": "bb1f1908-a2e8-4489-b383-b775a4acd8e1",
   "metadata": {},
   "source": [
    "### Comments\n",
    "The columns with zero variances are removed"
   ]
  },
  {
   "cell_type": "code",
   "execution_count": 16,
   "id": "451f089a-f721-4aa4-9921-72eaf7308868",
   "metadata": {},
   "outputs": [],
   "source": [
    "#X.loc[:, (X != X.iloc[0]).any()] "
   ]
  },
  {
   "cell_type": "code",
   "execution_count": 63,
   "id": "ee7676ff-ac98-4226-964d-18e66b144e76",
   "metadata": {},
   "outputs": [
    {
     "data": {
      "text/plain": [
       "(4209, 356)"
      ]
     },
     "execution_count": 63,
     "metadata": {},
     "output_type": "execute_result"
    }
   ],
   "source": [
    "# Applying scaling technique for numerical data of train set\n",
    "from sklearn.preprocessing import MinMaxScaler, StandardScaler\n",
    "minmax = MinMaxScaler()\n",
    "X_Scaled = minmax.fit_transform(X)\n",
    "X_Scaled.shape"
   ]
  },
  {
   "cell_type": "markdown",
   "id": "24297014-f3bf-4a85-852d-4ef133a646ed",
   "metadata": {},
   "source": [
    "# Dimension reduction"
   ]
  },
  {
   "cell_type": "markdown",
   "id": "149fbe28-b9c6-4ef3-8d11-f49fb8085825",
   "metadata": {},
   "source": [
    "The data consists of huge number of columns and hence PCA is attempted to check if dimensional reduction is possible"
   ]
  },
  {
   "cell_type": "code",
   "execution_count": 84,
   "id": "d8c61cc5-b165-4de8-a903-ef16340c3570",
   "metadata": {},
   "outputs": [],
   "source": [
    "#import PCA\n",
    "from sklearn.decomposition import PCA\n",
    "pca=PCA(n_components=356)"
   ]
  },
  {
   "cell_type": "code",
   "execution_count": 85,
   "id": "556b6224-e11e-4a2e-b2d0-675a6975b2a9",
   "metadata": {},
   "outputs": [
    {
     "data": {
      "text/html": [
       "<style>#sk-container-id-2 {color: black;}#sk-container-id-2 pre{padding: 0;}#sk-container-id-2 div.sk-toggleable {background-color: white;}#sk-container-id-2 label.sk-toggleable__label {cursor: pointer;display: block;width: 100%;margin-bottom: 0;padding: 0.3em;box-sizing: border-box;text-align: center;}#sk-container-id-2 label.sk-toggleable__label-arrow:before {content: \"▸\";float: left;margin-right: 0.25em;color: #696969;}#sk-container-id-2 label.sk-toggleable__label-arrow:hover:before {color: black;}#sk-container-id-2 div.sk-estimator:hover label.sk-toggleable__label-arrow:before {color: black;}#sk-container-id-2 div.sk-toggleable__content {max-height: 0;max-width: 0;overflow: hidden;text-align: left;background-color: #f0f8ff;}#sk-container-id-2 div.sk-toggleable__content pre {margin: 0.2em;color: black;border-radius: 0.25em;background-color: #f0f8ff;}#sk-container-id-2 input.sk-toggleable__control:checked~div.sk-toggleable__content {max-height: 200px;max-width: 100%;overflow: auto;}#sk-container-id-2 input.sk-toggleable__control:checked~label.sk-toggleable__label-arrow:before {content: \"▾\";}#sk-container-id-2 div.sk-estimator input.sk-toggleable__control:checked~label.sk-toggleable__label {background-color: #d4ebff;}#sk-container-id-2 div.sk-label input.sk-toggleable__control:checked~label.sk-toggleable__label {background-color: #d4ebff;}#sk-container-id-2 input.sk-hidden--visually {border: 0;clip: rect(1px 1px 1px 1px);clip: rect(1px, 1px, 1px, 1px);height: 1px;margin: -1px;overflow: hidden;padding: 0;position: absolute;width: 1px;}#sk-container-id-2 div.sk-estimator {font-family: monospace;background-color: #f0f8ff;border: 1px dotted black;border-radius: 0.25em;box-sizing: border-box;margin-bottom: 0.5em;}#sk-container-id-2 div.sk-estimator:hover {background-color: #d4ebff;}#sk-container-id-2 div.sk-parallel-item::after {content: \"\";width: 100%;border-bottom: 1px solid gray;flex-grow: 1;}#sk-container-id-2 div.sk-label:hover label.sk-toggleable__label {background-color: #d4ebff;}#sk-container-id-2 div.sk-serial::before {content: \"\";position: absolute;border-left: 1px solid gray;box-sizing: border-box;top: 0;bottom: 0;left: 50%;z-index: 0;}#sk-container-id-2 div.sk-serial {display: flex;flex-direction: column;align-items: center;background-color: white;padding-right: 0.2em;padding-left: 0.2em;position: relative;}#sk-container-id-2 div.sk-item {position: relative;z-index: 1;}#sk-container-id-2 div.sk-parallel {display: flex;align-items: stretch;justify-content: center;background-color: white;position: relative;}#sk-container-id-2 div.sk-item::before, #sk-container-id-2 div.sk-parallel-item::before {content: \"\";position: absolute;border-left: 1px solid gray;box-sizing: border-box;top: 0;bottom: 0;left: 50%;z-index: -1;}#sk-container-id-2 div.sk-parallel-item {display: flex;flex-direction: column;z-index: 1;position: relative;background-color: white;}#sk-container-id-2 div.sk-parallel-item:first-child::after {align-self: flex-end;width: 50%;}#sk-container-id-2 div.sk-parallel-item:last-child::after {align-self: flex-start;width: 50%;}#sk-container-id-2 div.sk-parallel-item:only-child::after {width: 0;}#sk-container-id-2 div.sk-dashed-wrapped {border: 1px dashed gray;margin: 0 0.4em 0.5em 0.4em;box-sizing: border-box;padding-bottom: 0.4em;background-color: white;}#sk-container-id-2 div.sk-label label {font-family: monospace;font-weight: bold;display: inline-block;line-height: 1.2em;}#sk-container-id-2 div.sk-label-container {text-align: center;}#sk-container-id-2 div.sk-container {/* jupyter's `normalize.less` sets `[hidden] { display: none; }` but bootstrap.min.css set `[hidden] { display: none !important; }` so we also need the `!important` here to be able to override the default hidden behavior on the sphinx rendered scikit-learn.org. See: https://github.com/scikit-learn/scikit-learn/issues/21755 */display: inline-block !important;position: relative;}#sk-container-id-2 div.sk-text-repr-fallback {display: none;}</style><div id=\"sk-container-id-2\" class=\"sk-top-container\"><div class=\"sk-text-repr-fallback\"><pre>PCA(n_components=356)</pre><b>In a Jupyter environment, please rerun this cell to show the HTML representation or trust the notebook. <br />On GitHub, the HTML representation is unable to render, please try loading this page with nbviewer.org.</b></div><div class=\"sk-container\" hidden><div class=\"sk-item\"><div class=\"sk-estimator sk-toggleable\"><input class=\"sk-toggleable__control sk-hidden--visually\" id=\"sk-estimator-id-2\" type=\"checkbox\" checked><label for=\"sk-estimator-id-2\" class=\"sk-toggleable__label sk-toggleable__label-arrow\">PCA</label><div class=\"sk-toggleable__content\"><pre>PCA(n_components=356)</pre></div></div></div></div></div>"
      ],
      "text/plain": [
       "PCA(n_components=356)"
      ]
     },
     "execution_count": 85,
     "metadata": {},
     "output_type": "execute_result"
    }
   ],
   "source": [
    "pca.fit(X_Scaled)"
   ]
  },
  {
   "cell_type": "code",
   "execution_count": 86,
   "id": "3b88def9-7bb8-4984-8ab3-1de66ff87fa6",
   "metadata": {},
   "outputs": [],
   "source": [
    "X_pca=pca.transform(X_Scaled)"
   ]
  },
  {
   "cell_type": "code",
   "execution_count": 87,
   "id": "b495dc41-83e3-4e32-9e6c-7e522d798d38",
   "metadata": {},
   "outputs": [
    {
     "data": {
      "text/plain": [
       "array([1.30754626e+01, 8.89590436e+00, 8.60880768e+00, 6.84815655e+00,\n",
       "       5.77522231e+00, 4.80324284e+00, 3.83903404e+00, 3.29579191e+00,\n",
       "       2.81083444e+00, 2.50934246e+00, 2.35491229e+00, 1.97462569e+00,\n",
       "       1.70329590e+00, 1.65897379e+00, 1.54621991e+00, 1.48001952e+00,\n",
       "       1.39528017e+00, 1.22062433e+00, 1.04062613e+00, 1.02212934e+00,\n",
       "       9.79087219e-01, 8.90636574e-01, 8.85120054e-01, 8.30483829e-01,\n",
       "       8.03174989e-01, 7.43509681e-01, 7.33212462e-01, 6.51819526e-01,\n",
       "       6.18282884e-01, 5.84653371e-01, 5.31907626e-01, 5.09226901e-01,\n",
       "       4.71843219e-01, 4.62325162e-01, 4.40977167e-01, 4.21579121e-01,\n",
       "       4.15107690e-01, 4.04883162e-01, 3.90536812e-01, 3.60970384e-01,\n",
       "       3.55434546e-01, 3.43368406e-01, 3.38189454e-01, 3.23800534e-01,\n",
       "       3.16568722e-01, 2.99818355e-01, 2.84820924e-01, 2.81650174e-01,\n",
       "       2.63397156e-01, 2.60254692e-01, 2.54267787e-01, 2.41672411e-01,\n",
       "       2.38163854e-01, 2.28854420e-01, 2.17743624e-01, 2.07341583e-01,\n",
       "       2.04986014e-01, 1.95304009e-01, 1.90734844e-01, 1.82114493e-01,\n",
       "       1.76754453e-01, 1.76037280e-01, 1.67302553e-01, 1.65813847e-01,\n",
       "       1.58726766e-01, 1.54971705e-01, 1.49491527e-01, 1.49097956e-01,\n",
       "       1.44074685e-01, 1.43578923e-01, 1.37969129e-01, 1.33213440e-01,\n",
       "       1.32237606e-01, 1.27473238e-01, 1.24543631e-01, 1.21617869e-01,\n",
       "       1.18215712e-01, 1.13683671e-01, 1.11498389e-01, 1.08894105e-01,\n",
       "       1.07341022e-01, 1.03740596e-01, 1.01517370e-01, 9.89688370e-02,\n",
       "       9.76107007e-02, 9.32828646e-02, 9.03954084e-02, 8.75524568e-02,\n",
       "       8.59441306e-02, 8.51735547e-02, 8.26785738e-02, 8.15638932e-02,\n",
       "       7.90059819e-02, 7.58086260e-02, 7.53155336e-02, 7.34861172e-02,\n",
       "       7.26622292e-02, 6.84697291e-02, 6.69650521e-02, 6.46911517e-02,\n",
       "       6.31764886e-02, 6.18745633e-02, 5.97975554e-02, 5.88755962e-02,\n",
       "       5.83800040e-02, 5.54231799e-02, 5.39434112e-02, 5.26475757e-02,\n",
       "       5.13032672e-02, 4.94214112e-02, 4.81110077e-02, 4.55347317e-02,\n",
       "       4.47366978e-02, 4.43620235e-02, 4.35934673e-02, 4.18565784e-02,\n",
       "       4.08616734e-02, 3.89926518e-02, 3.78368966e-02, 3.72411702e-02,\n",
       "       3.71460641e-02, 3.64012773e-02, 3.55407080e-02, 3.50685071e-02,\n",
       "       3.35477222e-02, 3.30791710e-02, 3.28072135e-02, 3.19276138e-02,\n",
       "       3.08435805e-02, 2.98861532e-02, 2.95412720e-02, 2.91379549e-02,\n",
       "       2.88383504e-02, 2.81843451e-02, 2.60133022e-02, 2.51741160e-02,\n",
       "       2.43780321e-02, 2.29405481e-02, 2.22976026e-02, 2.22650640e-02,\n",
       "       2.10209301e-02, 2.07494179e-02, 2.03095952e-02, 1.99876813e-02,\n",
       "       1.93704326e-02, 1.87997134e-02, 1.84389948e-02, 1.81712972e-02,\n",
       "       1.71736163e-02, 1.66237985e-02, 1.62091374e-02, 1.60926573e-02,\n",
       "       1.49166703e-02, 1.47847188e-02, 1.44459132e-02, 1.41523442e-02,\n",
       "       1.36798996e-02, 1.34691003e-02, 1.32617394e-02, 1.28335893e-02,\n",
       "       1.27106559e-02, 1.19490116e-02, 1.16657325e-02, 1.12483749e-02,\n",
       "       1.09665716e-02, 1.05000666e-02, 1.00980301e-02, 9.60589339e-03,\n",
       "       9.19146582e-03, 8.86778050e-03, 8.48869964e-03, 8.43929185e-03,\n",
       "       8.12276578e-03, 7.76334409e-03, 7.60528071e-03, 7.33557362e-03,\n",
       "       7.13428220e-03, 6.97126686e-03, 6.79421722e-03, 6.51036574e-03,\n",
       "       6.35080132e-03, 6.25605076e-03, 6.13653608e-03, 5.99829393e-03,\n",
       "       5.68356012e-03, 5.49938550e-03, 5.32266043e-03, 5.21341508e-03,\n",
       "       5.12658269e-03, 5.02615700e-03, 4.99871703e-03, 4.79821533e-03,\n",
       "       4.69685752e-03, 4.60206106e-03, 4.36308946e-03, 4.18271947e-03,\n",
       "       4.12673205e-03, 3.86812604e-03, 3.80217868e-03, 3.75600058e-03,\n",
       "       3.52005264e-03, 3.47157878e-03, 3.22000576e-03, 3.17098368e-03,\n",
       "       3.03702244e-03, 2.95839204e-03, 2.86469416e-03, 2.68219730e-03,\n",
       "       2.56852929e-03, 2.40334607e-03, 2.33415714e-03, 2.23856760e-03,\n",
       "       2.10438781e-03, 1.99966006e-03, 1.87664695e-03, 1.85349317e-03,\n",
       "       1.83291292e-03, 1.82000851e-03, 1.80189628e-03, 1.71182875e-03,\n",
       "       1.69487557e-03, 1.59322915e-03, 1.54012122e-03, 1.50868946e-03,\n",
       "       1.48028047e-03, 1.44694180e-03, 1.37785407e-03, 1.27566617e-03,\n",
       "       1.15220754e-03, 1.13535827e-03, 1.01184888e-03, 9.91203592e-04,\n",
       "       9.78208791e-04, 9.57496048e-04, 9.55029545e-04, 9.44652753e-04,\n",
       "       9.11784264e-04, 8.81269386e-04, 8.49462314e-04, 8.23057640e-04,\n",
       "       7.65460929e-04, 5.82093388e-04, 4.65110218e-04, 4.29144037e-04,\n",
       "       3.71669012e-04, 3.42119584e-04, 3.18749803e-04, 2.88816137e-04,\n",
       "       2.32864794e-04, 2.03474652e-04, 6.38885878e-05, 4.01587969e-30,\n",
       "       3.12228821e-30, 2.40826690e-30, 1.83644172e-30, 1.60423285e-30,\n",
       "       1.25460327e-30, 1.19652693e-30, 9.48547992e-31, 8.18676231e-31,\n",
       "       6.55416488e-31, 5.93728965e-31, 4.93374949e-31, 4.40959165e-31,\n",
       "       3.92960819e-31, 3.56785656e-31, 2.69694203e-31, 2.58781915e-31,\n",
       "       2.43446447e-31, 2.23529097e-31, 1.93374613e-31, 1.86505100e-31,\n",
       "       1.77149561e-31, 1.55124807e-31, 1.23920079e-31, 1.15658192e-31,\n",
       "       1.14317609e-31, 1.09105214e-31, 1.07140018e-31, 9.39082076e-32,\n",
       "       8.71619054e-32, 6.66706542e-32, 5.42760506e-32, 3.89420287e-32,\n",
       "       3.89420287e-32, 3.89420287e-32, 3.89420287e-32, 3.89420287e-32,\n",
       "       3.89420287e-32, 3.89420287e-32, 3.89420287e-32, 3.89420287e-32,\n",
       "       3.89420287e-32, 3.89420287e-32, 3.89420287e-32, 3.89420287e-32,\n",
       "       3.89420287e-32, 3.89420287e-32, 3.89420287e-32, 3.89420287e-32,\n",
       "       3.89420287e-32, 3.89420287e-32, 3.89420287e-32, 3.89420287e-32,\n",
       "       3.89420287e-32, 3.89420287e-32, 3.89420287e-32, 3.89420287e-32,\n",
       "       3.89420287e-32, 3.89420287e-32, 3.89420287e-32, 3.89420287e-32,\n",
       "       3.89420287e-32, 3.89420287e-32, 3.89420287e-32, 3.89420287e-32,\n",
       "       3.89420287e-32, 3.89420287e-32, 3.89420287e-32, 3.89420287e-32,\n",
       "       3.89420287e-32, 3.89420287e-32, 3.89420287e-32, 3.89420287e-32,\n",
       "       3.89420287e-32, 3.89420287e-32, 3.89420287e-32, 3.89420287e-32,\n",
       "       3.89420287e-32, 3.89420287e-32, 3.89420287e-32, 3.89420287e-32,\n",
       "       3.89420287e-32, 3.89420287e-32, 3.89420287e-32, 3.89420287e-32,\n",
       "       3.89420287e-32, 3.89420287e-32, 3.89420287e-32, 3.89420287e-32,\n",
       "       3.89420287e-32, 3.89420287e-32, 3.89420287e-32, 3.89420287e-32,\n",
       "       3.89420287e-32, 3.89420287e-32, 3.89420287e-32, 3.29420427e-32,\n",
       "       2.59151534e-32, 1.95197977e-32, 1.67962876e-32, 1.41542033e-32,\n",
       "       1.13275459e-32, 6.55570160e-33, 2.23327652e-33, 4.28726601e-34])"
      ]
     },
     "execution_count": 87,
     "metadata": {},
     "output_type": "execute_result"
    }
   ],
   "source": [
    "pca.explained_variance_ratio_*100"
   ]
  },
  {
   "cell_type": "code",
   "execution_count": 88,
   "id": "29c3dc5d-8337-4418-9468-6deee1dbdff7",
   "metadata": {},
   "outputs": [
    {
     "data": {
      "text/plain": [
       "Text(0, 0.5, 'Cumulative percentage of variance')"
      ]
     },
     "execution_count": 88,
     "metadata": {},
     "output_type": "execute_result"
    },
    {
     "data": {
      "image/png": "[encoded data removed]",
      "text/plain": [
       "<Figure size 432x288 with 1 Axes>"
      ]
     },
     "metadata": {
      "needs_background": "light"
     },
     "output_type": "display_data"
    }
   ],
   "source": [
    "plt.plot(np.cumsum(pca.explained_variance_ratio_*100))\n",
    "plt.xlabel('Number of Princpal components')\n",
    "plt.ylabel('Cumulative percentage of variance')"
   ]
  },
  {
   "cell_type": "markdown",
   "id": "67f084b4-d6a2-4b00-b09f-b3132d9f9db8",
   "metadata": {},
   "source": [
    "### Comments\n",
    "Plotting the explained ratio vs the number of principal components, we can see that an optimum of 60 principal components are enough to explain about 94% of data. Hence 60 Principal components are used for further analysis\n"
   ]
  },
  {
   "cell_type": "code",
   "execution_count": 114,
   "id": "86ee6acf-54af-4cfe-8c4f-4e8bc6ff3033",
   "metadata": {},
   "outputs": [],
   "source": [
    "from sklearn.decomposition import PCA\n",
    "pca=PCA(n_components=60)\n",
    "pca.fit(X_Scaled)\n",
    "X_pca=pca.transform(X_Scaled)\n"
   ]
  },
  {
   "cell_type": "code",
   "execution_count": 90,
   "id": "bebd2841-282c-460f-861a-706cf780973a",
   "metadata": {},
   "outputs": [
    {
     "data": {
      "text/plain": [
       "array([13.07546259, 21.97136695, 30.58017463, 37.42833119, 43.2035535 ,\n",
       "       48.00679634, 51.84583038, 55.14162229, 57.95245672, 60.46179919,\n",
       "       62.81671147, 64.79133717, 66.49463307, 68.15360686, 69.69982677,\n",
       "       71.17984629, 72.57512645, 73.79575078, 74.83637689, 75.85850623,\n",
       "       76.83759343, 77.72822994, 78.61334998, 79.44383372, 80.24700864,\n",
       "       80.99051818, 81.72373026, 82.37554916, 82.99383151, 83.57848444,\n",
       "       84.11039017, 84.61961376, 85.09144808, 85.5537701 , 85.99474112,\n",
       "       86.41631078, 86.83139789, 87.23626538, 87.62678763, 87.98772801,\n",
       "       88.34307666, 88.68630123, 89.02442101, 89.34810756, 89.66449624,\n",
       "       89.9641788 , 90.24877251, 90.53017601, 90.79333872, 91.05319481,\n",
       "       91.30701459, 91.54824805, 91.78589811, 92.01409085, 92.23152864,\n",
       "       92.43717072, 92.63951075, 92.83353095, 93.02110552, 93.19688039])"
      ]
     },
     "execution_count": 90,
     "metadata": {},
     "output_type": "execute_result"
    }
   ],
   "source": [
    "np.cumsum(pca.explained_variance_ratio_*100)"
   ]
  },
  {
   "cell_type": "markdown",
   "id": "8a449c61-ac4c-4e7d-a77c-459bf944ab5c",
   "metadata": {},
   "source": [
    "PCA with 60 components can explain 93 % of the variance in the data"
   ]
  },
  {
   "cell_type": "markdown",
   "id": "f9b2e7d6-ff4b-4738-80f0-27b909622c2f",
   "metadata": {},
   "source": [
    "### Comments\n",
    "For the reduced data, the regression is performed using XGboost regressor"
   ]
  },
  {
   "cell_type": "code",
   "execution_count": 115,
   "id": "326497a9-c8bc-4be3-97ac-319772db7f00",
   "metadata": {},
   "outputs": [
    {
     "name": "stdout",
     "output_type": "stream",
     "text": [
      "MAE Train : 22.926\n",
      "R2 score Train : 0.857\n"
     ]
    }
   ],
   "source": [
    "# fitting xgbregressor\n",
    "from xgboost import XGBRegressor\n",
    "from sklearn.metrics import mean_squared_error\n",
    "from sklearn.metrics import r2_score\n",
    "\n",
    "xgb=XGBRegressor()\n",
    "\n",
    "#fit the model on the training data set\n",
    "xgb.fit(X_pca,y)\n",
    "prediction_train=xgb.predict(X_pca)\n",
    "\n",
    "print('MAE Train : %0.3f' %mean_squared_error(y, prediction_train))\n",
    "print('R2 score Train : %0.3f' %r2_score(y, prediction_train))\n"
   ]
  },
  {
   "cell_type": "markdown",
   "id": "1b57f430-ed4b-4421-8b91-72c04c6451f0",
   "metadata": {},
   "source": [
    "### Comments\n",
    "Since the data is continous in nature, the mean square error and R2 score is used as an estimate of model performance.\n",
    "The trained model gives an MAE of 23 and R2score of 0.857"
   ]
  },
  {
   "cell_type": "code",
   "execution_count": 26,
   "id": "a1144445-e431-459b-9fb9-5267520c9477",
   "metadata": {},
   "outputs": [],
   "source": [
    "# To optimise max_depth\n",
    "from xgboost import XGBRegressor\n",
    "from sklearn.metrics import mean_squared_error\n",
    "from sklearn.metrics import r2_score\n",
    "\n",
    "R2_Score_maxdepth= []\n",
    "for i in range(1,50):\n",
    "    xgb=XGBRegressor(max_depth=i, learning_rate=0.4)\n",
    "#fit the model on the training data set\n",
    "    xgb.fit(X_pca,y)\n",
    "    prediction_train=xgb.predict(X_pca)\n",
    "    R2_Score_maxdepth.append(r2_score(y, prediction_train))\n",
    "    "
   ]
  },
  {
   "cell_type": "markdown",
   "id": "0058c3c9-9004-4f3d-8707-6f92bd8a1672",
   "metadata": {},
   "source": [
    "### Comments\n",
    "The above code aims to optimsie two parameters namely max_depth and learning_rate.\n",
    "First max_depth is optimised by running the model for various max depth values ranging from 1-50"
   ]
  },
  {
   "cell_type": "code",
   "execution_count": 27,
   "id": "d5cbcba2-3f2e-4911-abdc-730a8ee83ec5",
   "metadata": {},
   "outputs": [
    {
     "data": {
      "text/plain": [
       "Text(0, 0.5, 'R2_Score')"
      ]
     },
     "execution_count": 27,
     "metadata": {},
     "output_type": "execute_result"
    },
    {
     "data": {
      "image/png": "[encoded data removed]",
      "text/plain": [
       "<Figure size 432x288 with 1 Axes>"
      ]
     },
     "metadata": {
      "needs_background": "light"
     },
     "output_type": "display_data"
    }
   ],
   "source": [
    "plt.plot(range(1,50),R2_Score_maxdepth)\n",
    "plt.xlabel('max_depth')\n",
    "plt.ylabel('R2_Score')"
   ]
  },
  {
   "cell_type": "markdown",
   "id": "0548faa3-720f-4b25-93c2-45c985c45c0d",
   "metadata": {},
   "source": [
    "### Comments\n",
    "Plotting the R2 score with the max_depth parameters it can be concluded that an optimal max_depth is around 6 above which there is no further improvement in the model"
   ]
  },
  {
   "cell_type": "code",
   "execution_count": 28,
   "id": "652daa4d-069a-429c-b25f-76a7402eb835",
   "metadata": {},
   "outputs": [],
   "source": [
    "# To optimise learning_Rate\n",
    "\n",
    "R2_Score_learningrate= []\n",
    "for i in range(1,20):\n",
    "    xgb=XGBRegressor(max_depth=6, learning_rate=0.05*i)\n",
    "#fit the model on the training data set\n",
    "    xgb.fit(X_pca,y)\n",
    "    prediction_train=xgb.predict(X_pca)\n",
    "    R2_Score_learningrate.append(r2_score(y, prediction_train))"
   ]
  },
  {
   "cell_type": "markdown",
   "id": "e4d72ccd-3e34-45ee-9898-abba8000f246",
   "metadata": {},
   "source": [
    "### Comments\n",
    "For the optimised max depth that is 6, the learning rate is optimsied in a similar way. the curve between the learning rate and r2score suggest that an optimal learning rate is around 0.4"
   ]
  },
  {
   "cell_type": "code",
   "execution_count": 30,
   "id": "341f2568-cede-4360-94ac-b3a44ebb53f1",
   "metadata": {},
   "outputs": [
    {
     "data": {
      "text/plain": [
       "Text(0, 0.5, 'R2_Score')"
      ]
     },
     "execution_count": 30,
     "metadata": {},
     "output_type": "execute_result"
    },
    {
     "data": {
      "image/png": "[encoded data removed]",
      "text/plain": [
       "<Figure size 432x288 with 1 Axes>"
      ]
     },
     "metadata": {
      "needs_background": "light"
     },
     "output_type": "display_data"
    }
   ],
   "source": [
    "\n",
    "plt.plot(np.linspace(0.05,1,19),R2_Score_learningrate)\n",
    "plt.xlabel('learning_rate')\n",
    "plt.ylabel('R2_Score')"
   ]
  },
  {
   "cell_type": "markdown",
   "id": "9739472c-91ff-4d7d-b9a4-070646910723",
   "metadata": {},
   "source": [
    "### Final model"
   ]
  },
  {
   "cell_type": "code",
   "execution_count": 33,
   "id": "9a5fd8bb-3832-4aac-9060-e23865f7acbf",
   "metadata": {},
   "outputs": [
    {
     "data": {
      "text/plain": [
       "0.8630103374623566"
      ]
     },
     "execution_count": 33,
     "metadata": {},
     "output_type": "execute_result"
    }
   ],
   "source": [
    "xgb=XGBRegressor(max_depth=6, learning_rate=0.4)\n",
    "#fit the model on the training data set\n",
    "xgb.fit(X_pca,y)\n",
    "prediction_train=xgb.predict(X_pca)\n",
    "r2_score(y, prediction_train)\n"
   ]
  },
  {
   "cell_type": "code",
   "execution_count": 120,
   "id": "d6a78d1a-d635-4245-974c-bb2b72e63ed2",
   "metadata": {},
   "outputs": [
    {
     "data": {
      "text/plain": [
       "<matplotlib.legend.Legend at 0x7f00cd8d91e0>"
      ]
     },
     "execution_count": 120,
     "metadata": {},
     "output_type": "execute_result"
    },
    {
     "data": {
      "image/png": "[encoded data removed]",
      "text/plain": [
       "<Figure size 432x288 with 1 Axes>"
      ]
     },
     "metadata": {
      "needs_background": "light"
     },
     "output_type": "display_data"
    }
   ],
   "source": [
    "x_ax = range(len(y))\n",
    "plt.plot(x_ax, y, label=\"original\")\n",
    "plt.plot(x_ax, prediction_train, label=\"predicted\")\n",
    "plt.xlabel('Data number')\n",
    "plt.ylabel('Y')\n",
    "plt.legend()"
   ]
  },
  {
   "cell_type": "markdown",
   "id": "72454f39-3586-419d-908d-7ff0958411f2",
   "metadata": {},
   "source": [
    "The above plot shows the comparison of the train data and the predicted data"
   ]
  },
  {
   "cell_type": "markdown",
   "id": "af8b09cb-23e9-4ddd-b42e-a6e8d7df3645",
   "metadata": {},
   "source": [
    "# Test data prediction"
   ]
  },
  {
   "cell_type": "markdown",
   "id": "1ec9b67a-b5de-4306-abbe-2c98df4aec2b",
   "metadata": {},
   "source": [
    "To predict the test data we need to apply PCA transformation and all the preprocessing applied to train data first."
   ]
  },
  {
   "cell_type": "code",
   "execution_count": 101,
   "id": "63357065-b2b9-420a-882f-ef3d6be8dc1f",
   "metadata": {},
   "outputs": [],
   "source": [
    "data_test=pd.read_csv('test.csv')"
   ]
  },
  {
   "cell_type": "code",
   "execution_count": 102,
   "id": "d83aba5f-e87a-4ccd-8dff-5911bff4434b",
   "metadata": {},
   "outputs": [
    {
     "data": {
      "text/plain": [
       "(4209, 376)"
      ]
     },
     "execution_count": 102,
     "metadata": {},
     "output_type": "execute_result"
    }
   ],
   "source": [
    "X_test=data_test.iloc[:,1:]\n",
    "X_test.shape"
   ]
  },
  {
   "cell_type": "code",
   "execution_count": 103,
   "id": "25c81fc1-2ec6-4b0c-8d3f-7dd0b3e64891",
   "metadata": {},
   "outputs": [
    {
     "data": {
      "text/plain": [
       "ID      0\n",
       "y       0\n",
       "X0      0\n",
       "X1      0\n",
       "X2      0\n",
       "X3      0\n",
       "X4      0\n",
       "X5      0\n",
       "X6      0\n",
       "X8      0\n",
       "X10     0\n",
       "X11     0\n",
       "X12     0\n",
       "X13     0\n",
       "X14     0\n",
       "X15     0\n",
       "X16     0\n",
       "X17     0\n",
       "X18     0\n",
       "X19     0\n",
       "X20     0\n",
       "X21     0\n",
       "X22     0\n",
       "X23     0\n",
       "X24     0\n",
       "X26     0\n",
       "X27     0\n",
       "X28     0\n",
       "X29     0\n",
       "X30     0\n",
       "X31     0\n",
       "X32     0\n",
       "X33     0\n",
       "X34     0\n",
       "X35     0\n",
       "X36     0\n",
       "X37     0\n",
       "X38     0\n",
       "X39     0\n",
       "X40     0\n",
       "X41     0\n",
       "X42     0\n",
       "X43     0\n",
       "X44     0\n",
       "X45     0\n",
       "X46     0\n",
       "X47     0\n",
       "X48     0\n",
       "X49     0\n",
       "X50     0\n",
       "X51     0\n",
       "X52     0\n",
       "X53     0\n",
       "X54     0\n",
       "X55     0\n",
       "X56     0\n",
       "X57     0\n",
       "X58     0\n",
       "X59     0\n",
       "X60     0\n",
       "X61     0\n",
       "X62     0\n",
       "X63     0\n",
       "X64     0\n",
       "X65     0\n",
       "X66     0\n",
       "X67     0\n",
       "X68     0\n",
       "X69     0\n",
       "X70     0\n",
       "X71     0\n",
       "X73     0\n",
       "X74     0\n",
       "X75     0\n",
       "X76     0\n",
       "X77     0\n",
       "X78     0\n",
       "X79     0\n",
       "X80     0\n",
       "X81     0\n",
       "X82     0\n",
       "X83     0\n",
       "X84     0\n",
       "X85     0\n",
       "X86     0\n",
       "X87     0\n",
       "X88     0\n",
       "X89     0\n",
       "X90     0\n",
       "X91     0\n",
       "X92     0\n",
       "X93     0\n",
       "X94     0\n",
       "X95     0\n",
       "X96     0\n",
       "X97     0\n",
       "X98     0\n",
       "X99     0\n",
       "X100    0\n",
       "X101    0\n",
       "X102    0\n",
       "X103    0\n",
       "X104    0\n",
       "X105    0\n",
       "X106    0\n",
       "X107    0\n",
       "X108    0\n",
       "X109    0\n",
       "X110    0\n",
       "X111    0\n",
       "X112    0\n",
       "X113    0\n",
       "X114    0\n",
       "X115    0\n",
       "X116    0\n",
       "X117    0\n",
       "X118    0\n",
       "X119    0\n",
       "X120    0\n",
       "X122    0\n",
       "X123    0\n",
       "X124    0\n",
       "X125    0\n",
       "X126    0\n",
       "X127    0\n",
       "X128    0\n",
       "X129    0\n",
       "X130    0\n",
       "X131    0\n",
       "X132    0\n",
       "X133    0\n",
       "X134    0\n",
       "X135    0\n",
       "X136    0\n",
       "X137    0\n",
       "X138    0\n",
       "X139    0\n",
       "X140    0\n",
       "X141    0\n",
       "X142    0\n",
       "X143    0\n",
       "X144    0\n",
       "X145    0\n",
       "X146    0\n",
       "X147    0\n",
       "X148    0\n",
       "X150    0\n",
       "X151    0\n",
       "X152    0\n",
       "X153    0\n",
       "X154    0\n",
       "X155    0\n",
       "X156    0\n",
       "X157    0\n",
       "X158    0\n",
       "X159    0\n",
       "X160    0\n",
       "X161    0\n",
       "X162    0\n",
       "X163    0\n",
       "X164    0\n",
       "X165    0\n",
       "X166    0\n",
       "X167    0\n",
       "X168    0\n",
       "X169    0\n",
       "X170    0\n",
       "X171    0\n",
       "X172    0\n",
       "X173    0\n",
       "X174    0\n",
       "X175    0\n",
       "X176    0\n",
       "X177    0\n",
       "X178    0\n",
       "X179    0\n",
       "X180    0\n",
       "X181    0\n",
       "X182    0\n",
       "X183    0\n",
       "X184    0\n",
       "X185    0\n",
       "X186    0\n",
       "X187    0\n",
       "X189    0\n",
       "X190    0\n",
       "X191    0\n",
       "X192    0\n",
       "X194    0\n",
       "X195    0\n",
       "X196    0\n",
       "X197    0\n",
       "X198    0\n",
       "X199    0\n",
       "X200    0\n",
       "X201    0\n",
       "X202    0\n",
       "X203    0\n",
       "X204    0\n",
       "X205    0\n",
       "X206    0\n",
       "X207    0\n",
       "X208    0\n",
       "X209    0\n",
       "X210    0\n",
       "X211    0\n",
       "X212    0\n",
       "X213    0\n",
       "X214    0\n",
       "X215    0\n",
       "X216    0\n",
       "X217    0\n",
       "X218    0\n",
       "X219    0\n",
       "X220    0\n",
       "X221    0\n",
       "X222    0\n",
       "X223    0\n",
       "X224    0\n",
       "X225    0\n",
       "X226    0\n",
       "X227    0\n",
       "X228    0\n",
       "X229    0\n",
       "X230    0\n",
       "X231    0\n",
       "X232    0\n",
       "X233    0\n",
       "X234    0\n",
       "X235    0\n",
       "X236    0\n",
       "X237    0\n",
       "X238    0\n",
       "X239    0\n",
       "X240    0\n",
       "X241    0\n",
       "X242    0\n",
       "X243    0\n",
       "X244    0\n",
       "X245    0\n",
       "X246    0\n",
       "X247    0\n",
       "X248    0\n",
       "X249    0\n",
       "X250    0\n",
       "X251    0\n",
       "X252    0\n",
       "X253    0\n",
       "X254    0\n",
       "X255    0\n",
       "X256    0\n",
       "X257    0\n",
       "X258    0\n",
       "X259    0\n",
       "X260    0\n",
       "X261    0\n",
       "X262    0\n",
       "X263    0\n",
       "X264    0\n",
       "X265    0\n",
       "X266    0\n",
       "X267    0\n",
       "X268    0\n",
       "X269    0\n",
       "X270    0\n",
       "X271    0\n",
       "X272    0\n",
       "X273    0\n",
       "X274    0\n",
       "X275    0\n",
       "X276    0\n",
       "X277    0\n",
       "X278    0\n",
       "X279    0\n",
       "X280    0\n",
       "X281    0\n",
       "X282    0\n",
       "X283    0\n",
       "X284    0\n",
       "X285    0\n",
       "X286    0\n",
       "X287    0\n",
       "X288    0\n",
       "X289    0\n",
       "X290    0\n",
       "X291    0\n",
       "X292    0\n",
       "X293    0\n",
       "X294    0\n",
       "X295    0\n",
       "X296    0\n",
       "X297    0\n",
       "X298    0\n",
       "X299    0\n",
       "X300    0\n",
       "X301    0\n",
       "X302    0\n",
       "X304    0\n",
       "X305    0\n",
       "X306    0\n",
       "X307    0\n",
       "X308    0\n",
       "X309    0\n",
       "X310    0\n",
       "X311    0\n",
       "X312    0\n",
       "X313    0\n",
       "X314    0\n",
       "X315    0\n",
       "X316    0\n",
       "X317    0\n",
       "X318    0\n",
       "X319    0\n",
       "X320    0\n",
       "X321    0\n",
       "X322    0\n",
       "X323    0\n",
       "X324    0\n",
       "X325    0\n",
       "X326    0\n",
       "X327    0\n",
       "X328    0\n",
       "X329    0\n",
       "X330    0\n",
       "X331    0\n",
       "X332    0\n",
       "X333    0\n",
       "X334    0\n",
       "X335    0\n",
       "X336    0\n",
       "X337    0\n",
       "X338    0\n",
       "X339    0\n",
       "X340    0\n",
       "X341    0\n",
       "X342    0\n",
       "X343    0\n",
       "X344    0\n",
       "X345    0\n",
       "X346    0\n",
       "X347    0\n",
       "X348    0\n",
       "X349    0\n",
       "X350    0\n",
       "X351    0\n",
       "X352    0\n",
       "X353    0\n",
       "X354    0\n",
       "X355    0\n",
       "X356    0\n",
       "X357    0\n",
       "X358    0\n",
       "X359    0\n",
       "X360    0\n",
       "X361    0\n",
       "X362    0\n",
       "X363    0\n",
       "X364    0\n",
       "X365    0\n",
       "X366    0\n",
       "X367    0\n",
       "X368    0\n",
       "X369    0\n",
       "X370    0\n",
       "X371    0\n",
       "X372    0\n",
       "X373    0\n",
       "X374    0\n",
       "X375    0\n",
       "X376    0\n",
       "X377    0\n",
       "X378    0\n",
       "X379    0\n",
       "X380    0\n",
       "X382    0\n",
       "X383    0\n",
       "X384    0\n",
       "X385    0\n",
       "dtype: int64"
      ]
     },
     "execution_count": 103,
     "metadata": {},
     "output_type": "execute_result"
    }
   ],
   "source": [
    "data.isna().sum()"
   ]
  },
  {
   "cell_type": "markdown",
   "id": "bf7fc710-7962-40bc-aa60-da362979a597",
   "metadata": {},
   "source": [
    "No nan values in test data too"
   ]
  },
  {
   "cell_type": "code",
   "execution_count": 104,
   "id": "51ecb1ed-8c12-4eab-a31b-f5d007dee545",
   "metadata": {},
   "outputs": [],
   "source": [
    "X_test_categorical_features = X_test.select_dtypes(include='object')\n",
    "X_test_categorical_features.columns\n",
    "X_test.drop(['X0', 'X1', 'X2', 'X3', 'X4', 'X5', 'X6', 'X8'], axis='columns', inplace=True)\n"
   ]
  },
  {
   "cell_type": "code",
   "execution_count": 105,
   "id": "da45279d-f5ea-4902-bfa0-c3fe9f0968ee",
   "metadata": {},
   "outputs": [],
   "source": [
    "#Drop the same columns that were dropped in train data with zero variance\n",
    "X_test.drop(drop_col_name, axis='columns', inplace=True)"
   ]
  },
  {
   "cell_type": "code",
   "execution_count": 106,
   "id": "f88141b0-6acc-4829-9d4a-0d8fa9b2eba4",
   "metadata": {},
   "outputs": [
    {
     "data": {
      "text/plain": [
       "(4209, 356)"
      ]
     },
     "execution_count": 106,
     "metadata": {},
     "output_type": "execute_result"
    }
   ],
   "source": [
    "X_test.shape"
   ]
  },
  {
   "cell_type": "code",
   "execution_count": 107,
   "id": "c0b5d9c4-04f6-4239-be4b-8eb4df3ce09a",
   "metadata": {},
   "outputs": [
    {
     "data": {
      "text/plain": [
       "(4209, 356)"
      ]
     },
     "execution_count": 107,
     "metadata": {},
     "output_type": "execute_result"
    }
   ],
   "source": [
    "# Applying scaling technique for numerical data of train set\n",
    "from sklearn.preprocessing import MinMaxScaler, StandardScaler\n",
    "minmax = MinMaxScaler()\n",
    "X_test_Scaled = minmax.fit_transform(X_test)\n",
    "X_test_Scaled.shape"
   ]
  },
  {
   "cell_type": "code",
   "execution_count": 108,
   "id": "a4c3eccb-6d55-4a2f-a4bb-9cb9dbd99063",
   "metadata": {},
   "outputs": [],
   "source": [
    "#Applying PCA with 60 parameters as in Train set\n",
    "from sklearn.decomposition import PCA\n",
    "pca=PCA(n_components=60)\n",
    "pca.fit(X_test_Scaled)\n",
    "X_test_pca=pca.transform(X_test_Scaled)\n"
   ]
  },
  {
   "cell_type": "markdown",
   "id": "b25421fd-fa99-4ca3-a63c-8395fbeabae4",
   "metadata": {},
   "source": [
    "### Final model"
   ]
  },
  {
   "cell_type": "markdown",
   "id": "ad7711da-8825-4924-b6b3-64744426186d",
   "metadata": {},
   "source": [
    "The fitted model of xgboost is again used to predict the test data"
   ]
  },
  {
   "cell_type": "code",
   "execution_count": 122,
   "id": "f3457c46-6146-4712-aa7e-5b5a1d75b19c",
   "metadata": {},
   "outputs": [
    {
     "name": "stdout",
     "output_type": "stream",
     "text": [
      "R2 score Train : 0.863\n"
     ]
    }
   ],
   "source": [
    "xgb=XGBRegressor(max_depth=6, learning_rate=0.4)\n",
    "#fit the model on the training data set\n",
    "xgb.fit(X_pca,y)\n",
    "prediction_train=xgb.predict(X_pca)\n",
    "print('R2 score Train : %0.3f' %r2_score(y, prediction_train))\n",
    "\n",
    "prediction_test=xgb.predict(X_test_pca)"
   ]
  },
  {
   "cell_type": "code",
   "execution_count": 111,
   "id": "9393184b-f4f8-4863-8958-cde7d51fb5bd",
   "metadata": {},
   "outputs": [],
   "source": [
    "# Create a submission file\n",
    "submission = pd.DataFrame({'ID': data_test['ID'], 'y': prediction_test})\n",
    "\n",
    "# Save the submission file\n",
    "submission.to_csv('submission.csv', index=False)"
   ]
  },
  {
   "cell_type": "code",
   "execution_count": null,
   "id": "9f971758-4981-4480-9165-2ae1691498f6",
   "metadata": {},
   "outputs": [],
   "source": []
  }
 ],
 "metadata": {
  "kernelspec": {
   "display_name": "Python 3 [3.10]",
   "language": "python",
   "name": "python3"
  },
  "language_info": {
   "codemirror_mode": {
    "name": "ipython",
    "version": 3
   },
   "file_extension": ".py",
   "mimetype": "text/x-python",
   "name": "python",
   "nbconvert_exporter": "python",
   "pygments_lexer": "ipython3",
   "version": "3.10.2"
  }
 },
 "nbformat": 4,
 "nbformat_minor": 5
}
